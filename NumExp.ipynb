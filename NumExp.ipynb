{
 "cells": [
  {
   "cell_type": "code",
   "execution_count": 1,
   "metadata": {
    "ExecuteTime": {
     "end_time": "2019-04-17T15:00:59.730697Z",
     "start_time": "2019-04-17T15:00:59.711289Z"
    }
   },
   "outputs": [
    {
     "name": "stdout",
     "output_type": "stream",
     "text": [
      "Populating the interactive namespace from numpy and matplotlib\n"
     ]
    }
   ],
   "source": [
    "import matplotlib.pyplot as plt\n",
    "%pylab inline\n",
    "\n",
    "import seaborn as sns\n",
    "sns.set()\n",
    "\n",
    "import numpy as np\n",
    "\n",
    "import multiprocessing as mp\n",
    "\n",
    "from tqdm import tqdm\n",
    "\n",
    "import os\n",
    "\n",
    "from functools import partial\n",
    "\n",
    "import pandas as pd\n",
    "\n",
    "%load_ext autoreload "
   ]
  },
  {
   "cell_type": "markdown",
   "metadata": {},
   "source": [
    "# Heavy-tails and outliers robustness"
   ]
  },
  {
   "cell_type": "code",
   "execution_count": 2,
   "metadata": {
    "ExecuteTime": {
     "end_time": "2019-04-17T15:47:50.041147Z",
     "start_time": "2019-04-17T15:47:49.909107Z"
    },
    "collapsed": true
   },
   "outputs": [],
   "source": [
    "%autoreload\n",
    "from ucb_classes import lilUCB, robust_lilUCB\n",
    "from mab_class import MAB"
   ]
  },
  {
   "cell_type": "code",
   "execution_count": 3,
   "metadata": {
    "ExecuteTime": {
     "end_time": "2019-04-17T15:47:52.385907Z",
     "start_time": "2019-04-17T15:47:52.378736Z"
    },
    "collapsed": true
   },
   "outputs": [],
   "source": [
    "def lilUCB_exp(scenario, distrib, K, α=.3, σ=.5): \n",
    "    \n",
    "    np.random.seed()\n",
    "    \n",
    "    mab = MAB(K, scenario, distrib, α=α)\n",
    "        \n",
    "    lilUCB_proc = lilUCB(K=K, ν=.1, β=1, σ=σ)\n",
    "    \n",
    "    T = lilUCB_proc.run(mab)\n",
    "    \n",
    "    return np.sum(T), np.argmax(T)\n",
    "\n",
    "def robust_lilUCB_exp(scenario, distrib, K, α=.3, σ=1.):\n",
    "    \n",
    "    np.random.seed()\n",
    "    \n",
    "    mab = MAB(K, scenario, distrib, α=α)\n",
    "    \n",
    "    robust_lilUCB_proc = robust_lilUCB(K=K, ν=.1, β=1, σ=σ)\n",
    "    \n",
    "    T = robust_lilUCB_proc.run(mab)\n",
    "    \n",
    "    return np.sum(T), np.argmax(T)"
   ]
  },
  {
   "cell_type": "code",
   "execution_count": 4,
   "metadata": {
    "ExecuteTime": {
     "end_time": "2019-04-17T15:47:57.147424Z",
     "start_time": "2019-04-17T15:47:57.138312Z"
    },
    "collapsed": true
   },
   "outputs": [],
   "source": [
    "import logging\n",
    "\n",
    "from logging.handlers import RotatingFileHandler\n",
    " \n",
    "logger = logging.getLogger()\n",
    "logger.setLevel(logging.DEBUG)\n",
    "\n",
    "formatter = logging.Formatter('%(asctime)s :: %(levelname)s :: %(message)s')\n",
    "\n",
    "file_handler = RotatingFileHandler('activity.log', 'a', 1000000, 1)\n",
    "\n",
    "file_handler.setLevel(logging.DEBUG)\n",
    "file_handler.setFormatter(formatter)\n",
    "logger.addHandler(file_handler)"
   ]
  },
  {
   "cell_type": "code",
   "execution_count": 5,
   "metadata": {},
   "outputs": [],
   "source": [
    "list_of_K = np.logspace(1, 8, 8, base=2, dtype=int)\n",
    "\n",
    "n_exp = len(list_of_K)\n",
    "n_rep = 200\n",
    "\n",
    "if 'BAI_lilUCB.npy' not in os.listdir('experiments_results'):\n",
    "\n",
    "    BAI_lilUCB = np.zeros((n_exp, n_rep), dtype=int)\n",
    "    BAI_robustlilUCB = np.zeros((n_exp, n_rep), dtype=int)\n",
    "    BAI_lilUCB_huber = np.zeros((n_exp, n_rep), dtype=int)\n",
    "    BAI_robustlilUCB_huber = np.zeros((n_exp,n_rep), dtype=int)\n",
    "    BAI_lilUCB_student = np.zeros((n_exp, n_rep), dtype=int)\n",
    "    BAI_robustlilUCB_student = np.zeros((n_exp,n_rep), dtype=int)\n",
    "\n",
    "    nb_of_pulls_lilUCB = np.zeros((n_exp, n_rep), dtype=int)\n",
    "    nb_of_pulls_robustlilUCB = np.zeros((n_exp, n_rep), dtype=int)\n",
    "    nb_of_pulls_lilUCB_huber = np.zeros((n_exp, n_rep), dtype=int)\n",
    "    nb_of_pulls_robustlilUCB_huber = np.zeros((n_exp, n_rep), dtype=int)\n",
    "    nb_of_pulls_lilUCB_student = np.zeros((n_exp, n_rep), dtype=int)\n",
    "    nb_of_pulls_robustlilUCB_student = np.zeros((n_exp, n_rep), dtype=int)\n",
    "else:\n",
    "    BAI_lilUCB = np.load('experiments_results/BAI_lilUCB.npy')  \n",
    "    BAI_robustlilUCB = np.load('experiments_results/BAI_robustlilUCB.npy')  \n",
    "    BAI_lilUCB_huber = np.load('experiments_results/BAI_lilUCB_huber.npy')  \n",
    "    BAI_robustlilUCB_huber = np.load('experiments_results/BAI_robustlilUCB_huber.npy')  \n",
    "    BAI_lilUCB_student = np.load('experiments_results/BAI_lilUCB_student.npy') \n",
    "    BAI_robustlilUCB_student = np.load('experiments_results/BAI_robustlilUCB_student.npy') \n",
    "\n",
    "    nb_of_pulls_lilUCB = np.load('experiments_results/nb_of_pulls_lilUCB.npy')  \n",
    "    nb_of_pulls_robustlilUCB = np.load('experiments_results/nb_of_pulls_robustlilUCB.npy')\n",
    "    nb_of_pulls_lilUCB_huber = np.load('experiments_results/nb_of_pulls_lilUCB_huber.npy')\n",
    "    nb_of_pulls_robustlilUCB_huber = np.load('experiments_results/nb_of_pulls_robustlilUCB_huber.npy')\n",
    "    nb_of_pulls_lilUCB_student = np.load('experiments_results/nb_of_pulls_lilUCB_student.npy')\n",
    "    nb_of_pulls_robustlilUCB_student = np.load('experiments_results/nb_of_pulls_robustlilUCB_student.npy')"
   ]
  },
  {
   "cell_type": "code",
   "execution_count": null,
   "metadata": {
    "ExecuteTime": {
     "end_time": "2019-04-17T15:49:50.696208Z",
     "start_time": "2019-04-17T15:49:12.183628Z"
    },
    "scrolled": false
   },
   "outputs": [
    {
     "name": "stderr",
     "output_type": "stream",
     "text": [
      " 62%|██████▎   | 5/8 [4:29:03<2:41:26, 3228.72s/it]"
     ]
    }
   ],
   "source": [
    "# initialization of pooled\n",
    "p = mp.Pool(mp.cpu_count())\n",
    "\n",
    "for i, K in enumerate(tqdm(list_of_K)): \n",
    "\n",
    "    if (nb_of_pulls_robustlilUCB[i, :]==0).all():\n",
    "    \n",
    "        # Gaussian model\n",
    "        scenario, distrib = 'alpha', 'gaussian'\n",
    "\n",
    "        logger.info('Starting lilUCB procedure for {} arms'.format(K))\n",
    "\n",
    "        # lilUCB \n",
    "        f = partial(lilUCB_exp, scenario, distrib)\n",
    "        result = np.array(p.map_async(f, [K]*n_rep).get())\n",
    "        nb_of_pulls_lilUCB[i, :] = result[:,  0]\n",
    "        BAI_lilUCB[i, :] = result[:, 1]\n",
    "\n",
    "        logger.info('Starting median lilUCB procedure for {} arms'.format(K))\n",
    "\n",
    "        # robust lil UCB\n",
    "        f = partial(robust_lilUCB_exp, scenario, distrib)\n",
    "        result = np.array(p.map_async(f, [K]*n_rep).get())\n",
    "        nb_of_pulls_robustlilUCB[i, :] = result[:, 0]\n",
    "        BAI_robustlilUCB[i, :] = result[:, 1]\n",
    "\n",
    "        # Huber model (Cauchy/Gaussian mixture)\n",
    "\n",
    "        scenario, distrib = 'alpha', 'cauchy_gaussian_mixture'\n",
    "\n",
    "        logger.info('Starting lilUCB procedure for {} arms (Huber)'.format(K))\n",
    "\n",
    "        # lilUCB contaminated \n",
    "        f = partial(lilUCB_exp, scenario, distrib)\n",
    "        result = np.array(p.map_async(f, [K]*n_rep).get())\n",
    "        nb_of_pulls_lilUCB_huber[i, :] = result[:, 0]\n",
    "        BAI_lilUCB_huber[i, :] = result[:, 1]\n",
    "\n",
    "        logger.info('Starting median lilUCB procedure for {} arms (Huber)'.format(K))\n",
    "\n",
    "        # robust lilUCB contaminated \n",
    "        f = partial(robust_lilUCB_exp, scenario, distrib)\n",
    "        result = np.array(p.map_async(f, [K]*n_rep).get())\n",
    "        nb_of_pulls_robustlilUCB_huber[i, :] = result[:,0]\n",
    "        BAI_robustlilUCB_huber[i, :] = result[:, 1]\n",
    "\n",
    "        # Student mis-specification\n",
    "\n",
    "        scenario, distrib = 'alpha', 'student2'\n",
    "\n",
    "        logger.info('Starting lilUCB procedure for {} arms (Student)'.format(K))\n",
    "\n",
    "        # lilUCB Student mis-specification \n",
    "        f = partial(lilUCB_exp, scenario, distrib)\n",
    "        result = np.array(p.map_async(f, [K]*n_rep).get())\n",
    "        nb_of_pulls_lilUCB_student[i, :] = result[:, 0]\n",
    "        BAI_lilUCB_student[i, :] = result[:, 1]\n",
    "\n",
    "        logger.info('Starting median lilUCB procedure for {} arms (Student)'.format(K))\n",
    "\n",
    "        # robust lilUCB student mis-specification \n",
    "        f = partial(robust_lilUCB_exp, scenario, distrib)\n",
    "        result = np.array(p.map_async(f, [K]*n_rep).get())\n",
    "        nb_of_pulls_robustlilUCB_student[i, :] = result[:,0]\n",
    "        BAI_robustlilUCB_student[i, :] = result[:, 1]\n",
    "\n",
    "\n",
    "        logger.info(\"Finished task, saving results...\")\n",
    "\n",
    "        np.save('experiments_results/BAI_lilUCB.npy', BAI_lilUCB)\n",
    "        np.save('experiments_results/BAI_robustlilUCB.npy', BAI_robustlilUCB) \n",
    "        np.save('experiments_results/BAI_lilUCB_huber.npy', BAI_lilUCB_huber) \n",
    "        np.save('experiments_results/BAI_robustlilUCB_huber.npy', BAI_robustlilUCB_huber)\n",
    "        np.save('experiments_results/BAI_lilUCB_student.npy', BAI_lilUCB_student) \n",
    "        np.save('experiments_results/BAI_robustlilUCB_student.npy', BAI_robustlilUCB_student) \n",
    "\n",
    "        np.save('experiments_results/nb_of_pulls_lilUCB.npy', nb_of_pulls_lilUCB)\n",
    "        np.save('experiments_results/nb_of_pulls_robustlilUCB.npy', nb_of_pulls_robustlilUCB)\n",
    "        np.save('experiments_results/nb_of_pulls_lilUCB_huber.npy', nb_of_pulls_lilUCB_huber)\n",
    "        np.save('experiments_results/nb_of_pulls_robustlilUCB_huber.npy', nb_of_pulls_robustlilUCB_huber)\n",
    "        np.save('experiments_results/nb_of_pulls_lilUCB_student.npy', nb_of_pulls_lilUCB_student)\n",
    "        np.save('experiments_results/nb_of_pulls_robustlilUCB_student.npy', nb_of_pulls_robustlilUCB_student)\n",
    "\n",
    "p.close()"
   ]
  },
  {
   "cell_type": "code",
   "execution_count": 26,
   "metadata": {},
   "outputs": [],
   "source": [
    "list_of_K = np.logspace(1, 3, 3, base=2, dtype=int)"
   ]
  },
  {
   "cell_type": "code",
   "execution_count": 32,
   "metadata": {},
   "outputs": [
    {
     "data": {
      "text/html": [
       "<div>\n",
       "<style scoped>\n",
       "    .dataframe tbody tr th:only-of-type {\n",
       "        vertical-align: middle;\n",
       "    }\n",
       "\n",
       "    .dataframe tbody tr th {\n",
       "        vertical-align: top;\n",
       "    }\n",
       "\n",
       "    .dataframe thead th {\n",
       "        text-align: right;\n",
       "    }\n",
       "</style>\n",
       "<table border=\"1\" class=\"dataframe\">\n",
       "  <thead>\n",
       "    <tr style=\"text-align: right;\">\n",
       "      <th></th>\n",
       "      <th></th>\n",
       "      <th>K=2</th>\n",
       "      <th>K=4</th>\n",
       "      <th>K=8</th>\n",
       "    </tr>\n",
       "    <tr>\n",
       "      <th>Scenario</th>\n",
       "      <th>Algorithm</th>\n",
       "      <th></th>\n",
       "      <th></th>\n",
       "      <th></th>\n",
       "    </tr>\n",
       "  </thead>\n",
       "  <tbody>\n",
       "    <tr>\n",
       "      <th rowspan=\"2\" valign=\"top\">Gaussian</th>\n",
       "      <th>lil'UCB</th>\n",
       "      <td>1.000</td>\n",
       "      <td>1.000</td>\n",
       "      <td>1.000</td>\n",
       "    </tr>\n",
       "    <tr>\n",
       "      <th>Median lil'UCB</th>\n",
       "      <td>1.000</td>\n",
       "      <td>1.000</td>\n",
       "      <td>1.000</td>\n",
       "    </tr>\n",
       "    <tr>\n",
       "      <th rowspan=\"2\" valign=\"top\">Huber</th>\n",
       "      <th>lil'UCB</th>\n",
       "      <td>0.915</td>\n",
       "      <td>0.820</td>\n",
       "      <td>0.750</td>\n",
       "    </tr>\n",
       "    <tr>\n",
       "      <th>Median lil'UCB</th>\n",
       "      <td>1.000</td>\n",
       "      <td>1.000</td>\n",
       "      <td>1.000</td>\n",
       "    </tr>\n",
       "    <tr>\n",
       "      <th rowspan=\"2\" valign=\"top\">Student</th>\n",
       "      <th>lil'UCB</th>\n",
       "      <td>0.915</td>\n",
       "      <td>0.975</td>\n",
       "      <td>0.915</td>\n",
       "    </tr>\n",
       "    <tr>\n",
       "      <th>Median lil'UCB</th>\n",
       "      <td>1.000</td>\n",
       "      <td>1.000</td>\n",
       "      <td>1.000</td>\n",
       "    </tr>\n",
       "  </tbody>\n",
       "</table>\n",
       "</div>"
      ],
      "text/plain": [
       "                           K=2    K=4    K=8\n",
       "Scenario Algorithm                          \n",
       "Gaussian lil'UCB         1.000  1.000  1.000\n",
       "         Median lil'UCB  1.000  1.000  1.000\n",
       "Huber    lil'UCB         0.915  0.820  0.750\n",
       "         Median lil'UCB  1.000  1.000  1.000\n",
       "Student  lil'UCB         0.915  0.975  0.915\n",
       "         Median lil'UCB  1.000  1.000  1.000"
      ]
     },
     "execution_count": 32,
     "metadata": {},
     "output_type": "execute_result"
    }
   ],
   "source": [
    "prop_1 = np.sum(BAI_lilUCB[:3,:]==0, axis=1)/n_rep\n",
    "prop_2 = np.sum(BAI_robustlilUCB[:3,:]==0, axis=1)/n_rep\n",
    "\n",
    "prop_3 = np.sum(BAI_lilUCB_huber[:3,:]==0, axis=1)/n_rep\n",
    "prop_4 = np.sum(BAI_robustlilUCB_huber[:3,:]==0, axis=1)/n_rep\n",
    "\n",
    "prop_5 = np.sum(BAI_lilUCB_student[:3,:]==0, axis=1)/n_rep\n",
    "prop_6 = np.sum(BAI_robustlilUCB_student[:3,:]==0, axis=1)/n_rep\n",
    "\n",
    "\n",
    "tuples = [(\"Gaussian\", \"lil'UCB\"), (\"Gaussian\", \"Median lil'UCB\"), \n",
    "          (\"Huber\", \"lil'UCB\"), (\"Huber\", \"Median lil'UCB\"),\n",
    "         (\"Student\", \"lil'UCB\"), (\"Student\", \"Median lil'UCB\")]\n",
    "index = pd.MultiIndex.from_tuples(tuples, names=['Scenario', 'Algorithm'])\n",
    "columns = [\"K={}\".format(K) for K in list_of_K]\n",
    "\n",
    "df = pd.DataFrame(np.vstack([prop_1, prop_2, prop_3, prop_4, prop_5, prop_6]), index=index, columns=columns)\n",
    "df.to_latex(buf=\"experiments_results/prop_BAI_huber.tex\", multirow=True)\n",
    "df"
   ]
  },
  {
   "cell_type": "code",
   "execution_count": 33,
   "metadata": {},
   "outputs": [],
   "source": [
    "sns.set_style(\"white\", {'ytick.left':True, 'xtick.bottom':True})\n",
    "n = np.logspace(2, 20, 200)\n",
    "\n",
    "from matplotlib import rc\n",
    "rc('font',**{'family':'sans-serif','sans-serif':['Helvetica']})\n",
    "## for Palatino and other serif fonts use:\n",
    "#rc('font',**{'family':'serif','serif':['Palatino']})\n",
    "rc('text', usetex=True)"
   ]
  },
  {
   "cell_type": "code",
   "execution_count": 34,
   "metadata": {
    "ExecuteTime": {
     "end_time": "2019-03-14T09:37:20.121911Z",
     "start_time": "2019-03-14T09:37:17.454564Z"
    }
   },
   "outputs": [
    {
     "data": {
      "image/png": "[encoded data removed]",
      "text/plain": [
       "<Figure size 432x288 with 1 Axes>"
      ]
     },
     "metadata": {},
     "output_type": "display_data"
    }
   ],
   "source": [
    "## sns.set()\n",
    "\n",
    "# grid for both axis\n",
    "plt.rcParams[\"axes.grid.axis\"] ='both'\n",
    "\n",
    "H_1 = [3*K/2 for K in list_of_K]\n",
    "\n",
    "# lilUCB, Gaussian model\n",
    "plt.semilogy(list_of_K, np.mean(nb_of_pulls_lilUCB[:3,:], axis=1)/H_1, \n",
    "           linewidth=2, linestyle='-', label=\"lil'UCB (Gaussian)\")\n",
    "plt.fill_between(list_of_K, np.min(nb_of_pulls_lilUCB[:3,:], axis=1)/H_1, \n",
    "                 np.max(nb_of_pulls_lilUCB[:3,:], axis=1)/H_1, alpha=0.3)\n",
    "\n",
    "# lilUCB, mixture model\n",
    "plt.semilogy(list_of_K, np.mean(nb_of_pulls_lilUCB_huber[:3,:], axis=1)/H_1, \n",
    "           linewidth=2, linestyle='--', label=\"lil'UCB (Huber)\")\n",
    "plt.fill_between(list_of_K, np.min(nb_of_pulls_lilUCB_huber[:3,:], axis=1)/H_1, \n",
    "                 np.max(nb_of_pulls_lilUCB_huber[:3,:], axis=1)/H_1, alpha=0.1)\n",
    "\n",
    "# lilUCB, student misspecification model\n",
    "plt.semilogy(list_of_K, np.mean(nb_of_pulls_lilUCB_student[:3,:], axis=1)/H_1, \n",
    "           linewidth=2, linestyle=':', label=\"lil'UCB (Student)\")\n",
    "plt.fill_between(list_of_K, np.min(nb_of_pulls_lilUCB_student[:3,:], axis=1)/H_1, \n",
    "                 np.max(nb_of_pulls_lilUCB_student[:3,:], axis=1)/H_1, alpha=0.1)\n",
    "\n",
    "# robust lilUCB, Gaussian model\n",
    "plt.semilogy(list_of_K, np.mean(nb_of_pulls_robustlilUCB[:3,:], axis=1)/H_1, \n",
    "           linewidth=2, linestyle='-', label=\"Median lil'UCB (Gaussian)\")\n",
    "plt.fill_between(list_of_K, np.min(nb_of_pulls_robustlilUCB[:3,:], axis=1)/H_1, \n",
    "                 np.max(nb_of_pulls_robustlilUCB[:3,:], axis=1)/H_1, alpha=0.3)\n",
    "\n",
    "# robust lilUCB, mixture model\n",
    "plt.semilogy(list_of_K, np.mean(nb_of_pulls_robustlilUCB_huber[:3,:], axis=1)/H_1, \n",
    "           linewidth=2, linestyle='--', label=\"Median lil'UCB (Huber)\")\n",
    "plt.fill_between(list_of_K, np.min(nb_of_pulls_robustlilUCB_huber[:3,:], axis=1)/H_1, \n",
    "                 np.max(nb_of_pulls_robustlilUCB_huber[:3,:], axis=1)/H_1, alpha=0.1)\n",
    "\n",
    "\n",
    "# robust lilUCB, student misspecification model\n",
    "plt.semilogy(list_of_K, np.mean(nb_of_pulls_robustlilUCB_student[:3,:], axis=1)/H_1, \n",
    "           linewidth=2, linestyle=':', label=\"Median lil'UCB (Student)\")\n",
    "plt.fill_between(list_of_K, np.min(nb_of_pulls_robustlilUCB_student[:3,:], axis=1)/H_1, \n",
    "                 np.max(nb_of_pulls_robustlilUCB_student[:3,:], axis=1)/H_1, alpha=0.1)\n",
    "\n",
    "plt.xlabel('Number of arms $K$')\n",
    "plt.ylabel('Number of pulls (units of $H_1$)')\n",
    "plt.legend(ncol=2)\n",
    "savefig('experiments_results/number_of_pulls_alpha.pdf', bbox_inches='tight', dpi=500)"
   ]
  },
  {
   "cell_type": "code",
   "execution_count": null,
   "metadata": {},
   "outputs": [],
   "source": []
  },
  {
   "cell_type": "code",
   "execution_count": null,
   "metadata": {},
   "outputs": [],
   "source": []
  }
 ],
 "metadata": {
  "kernelspec": {
   "display_name": "Python 3",
   "language": "python",
   "name": "python3"
  },
  "language_info": {
   "codemirror_mode": {
    "name": "ipython",
    "version": 3
   },
   "file_extension": ".py",
   "mimetype": "text/x-python",
   "name": "python",
   "nbconvert_exporter": "python",
   "pygments_lexer": "ipython3",
   "version": "3.5.2"
  },
  "toc": {
   "nav_menu": {},
   "number_sections": true,
   "sideBar": true,
   "skip_h1_title": false,
   "toc_cell": false,
   "toc_position": {},
   "toc_section_display": "block",
   "toc_window_display": false
  }
 },
 "nbformat": 4,
 "nbformat_minor": 2
}
