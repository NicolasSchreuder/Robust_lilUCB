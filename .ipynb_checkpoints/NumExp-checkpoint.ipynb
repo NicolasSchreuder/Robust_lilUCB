{
 "cells": [
  {
   "cell_type": "code",
   "execution_count": 1,
   "metadata": {
    "ExecuteTime": {
     "end_time": "2019-03-07T18:57:36.399448Z",
     "start_time": "2019-03-07T18:57:34.821453Z"
    }
   },
   "outputs": [
    {
     "name": "stdout",
     "output_type": "stream",
     "text": [
      "Populating the interactive namespace from numpy and matplotlib\n"
     ]
    }
   ],
   "source": [
    "import matplotlib.pyplot as plt\n",
    "%pylab inline\n",
    "\n",
    "import seaborn as sns\n",
    "sns.set()\n",
    "\n",
    "import numpy as np\n",
    "\n",
    "import multiprocessing as mp\n",
    "\n",
    "from tqdm import tqdm\n",
    "\n",
    "from functools import partial\n",
    "\n",
    "%load_ext autoreload"
   ]
  },
  {
   "cell_type": "markdown",
   "metadata": {},
   "source": [
    "# Estimation of constant via Monte-Carlo"
   ]
  },
  {
   "cell_type": "code",
   "execution_count": 2,
   "metadata": {
    "ExecuteTime": {
     "end_time": "2019-03-04T17:12:27.642302Z",
     "start_time": "2019-03-04T17:12:27.636861Z"
    },
    "collapsed": true
   },
   "outputs": [],
   "source": [
    "δ = 0.05\n",
    "q_alpha = (100*δ)/2\n",
    "\n",
    "linspace_size = 50\n",
    "n_samples = np.linspace(100, 1e4, linspace_size, dtype=int)\n",
    "n_replications = 1000\n",
    "\n",
    "ϵ = 1\n",
    "\n",
    "δ_lil = np.log(1+ϵ)**(1+ϵ)/(4*(1 + 1/ϵ))*δ"
   ]
  },
  {
   "cell_type": "code",
   "execution_count": 3,
   "metadata": {
    "ExecuteTime": {
     "end_time": "2019-03-04T10:09:24.965631Z",
     "start_time": "2019-03-04T10:09:24.950351Z"
    },
    "collapsed": true
   },
   "outputs": [],
   "source": [
    "def plot_percentiles(n_samples, theta_hist, q_alpha):\n",
    "    plt.plot(n_samples, np.percentile(theta_hist, 100-q_alpha, axis=1), label='(1 - δ)-percentile')\n",
    "    plt.plot(n_samples, np.percentile(theta_hist, q_alpha, axis=1), label='δ-percentile')\n",
    "    plt.xlabel('Number of samples')\n",
    "    plt.legend()"
   ]
  },
  {
   "cell_type": "markdown",
   "metadata": {},
   "source": [
    "## Squared loss and Gaussian observations"
   ]
  },
  {
   "cell_type": "markdown",
   "metadata": {},
   "source": [
    "Assume $Y_1, \\dots, Y_n$ are i.i.d. standard Gaussian random variables and the loss $\\phi$ is given by $\\phi(x, y) = (x-y)^2, \\forall x,y$."
   ]
  },
  {
   "cell_type": "markdown",
   "metadata": {
    "ExecuteTime": {
     "end_time": "2019-02-28T15:55:09.187999Z",
     "start_time": "2019-02-28T15:55:09.182359Z"
    }
   },
   "source": [
    "We have $\\hat{\\theta}_n = \\frac{1}{n}\\sum_{i=1}^n Y_i$ and $\\theta^* = 0$. \n",
    "\n",
    "\n",
    "- Assumption 2.1 holds since $Y$ has a finite expectation\n",
    "\n",
    "Using the fact that $\\phi(y, \\theta) - \\phi(y, 0)= \\theta^2 - 2 \\theta y$ we have\n",
    "\n",
    "- Assumption 2.2 holds with $r=+\\infty, \\alpha=2$\n",
    "- Assumption 2.3 holds with $\\sigma=2$.\n",
    "\n",
    "Thus Theorem 2 from the paper (with $\\varepsilon=1$) tells us that, for any $\\delta \\in (0, 1/17)$, with probability at least $1-\\delta$,\n",
    "\\begin{align}\n",
    "\\lvert \\hat{\\theta}_n - \\theta^* \\rvert \\le 4\\sqrt{2} \\sqrt{\\frac{2\\ln \\ln n + \\ln(1/\\delta)}{n}}\n",
    "\\end{align}\n",
    "\n",
    "We want to study the empirical behavior of $\\hat{\\theta}_n$ to see if our bound is tight."
   ]
  },
  {
   "cell_type": "code",
   "execution_count": 7,
   "metadata": {
    "ExecuteTime": {
     "end_time": "2019-03-01T13:02:35.923786Z",
     "start_time": "2019-03-01T13:02:01.378405Z"
    }
   },
   "outputs": [
    {
     "name": "stderr",
     "output_type": "stream",
     "text": [
      "100%|██████████| 50/50 [00:19<00:00,  1.36it/s]\n"
     ]
    },
    {
     "data": {
      "image/png": "[encoded data removed]",
      "text/plain": [
       "<Figure size 432x288 with 1 Axes>"
      ]
     },
     "metadata": {
      "needs_background": "light"
     },
     "output_type": "display_data"
    }
   ],
   "source": [
    "theta_hist = np.zeros((linspace_size, n_replications))\n",
    "\n",
    "p = mp.Pool(mp.cpu_count())\n",
    "\n",
    "for idx, n in enumerate(tqdm(n_samples)):\n",
    "    \n",
    "    # draw random variables\n",
    "    Y = np.random.normal(0, 1, n*n_replications)    \n",
    "    Y_sliced = [Y[k*n:(k+1)*n] for k in range(n_replications)]\n",
    "    \n",
    "    theta_hat = np.array(list(p.map(np.mean, Y_sliced)))\n",
    "    \n",
    "    theta_hist[idx, :] = np.sqrt(n/(2*np.log(np.log(n)) + np.log(1/δ_lil)))*theta_hat\n",
    "    \n",
    "p.close()\n",
    "\n",
    "plot_percentiles(n_samples, theta_hist, q_alpha)"
   ]
  },
  {
   "cell_type": "markdown",
   "metadata": {},
   "source": [
    "The plot above shows the empirical percentiles of the distribution of $\\sqrt{\\frac{n}{2\\ln \\ln n + \\ln (17/\\delta)}} \\hat{\\theta}_n$ as $n$ grows. It seems to be roughly constant and is comprised between 1 and 2 in absolute value."
   ]
  },
  {
   "cell_type": "markdown",
   "metadata": {},
   "source": [
    "## Absolute loss and Gaussian observations"
   ]
  },
  {
   "cell_type": "markdown",
   "metadata": {},
   "source": [
    "Assume $Y_1, \\dots, Y_n$ are i.i.d. standard Gaussian random variables and the loss $\\phi$ is given by $\\phi(x, y) = \\lvert x-y \\rvert, \\forall x,y$.\n",
    "\n",
    "- Assumption 2.1 is verified since $Y$ has an expectation\n",
    "\n",
    "We have $\\Phi''(\\theta) = \\sqrt{\\frac{2}{\\pi}}\\exp^{-\\theta^2/2}$\n",
    "\n",
    "- Assumption 2.2 holds for $r=1$ and $\\alpha=0.48$ for example\n",
    "\n",
    "The triangular inequality yields $\\lvert \\phi(Y, \\theta) - \\phi(Y, 0) \\rvert= \\lvert \\lvert Y - \\theta \\rvert - \\lvert Y \\rvert \\rvert  \\leq \\theta$ thus\n",
    "\n",
    "- Assumption 2.3 holds for $\\sigma=1$.\n",
    "\n",
    "Thus Theorem 2 from the paper (with $\\varepsilon=1$) tells us that, for any $\\delta \\in (0, 1/17)$, with probability at least $1-\\delta$,\n",
    "\\begin{align}\n",
    "\\lvert \\hat{\\theta}_n - \\theta^* \\rvert \\le 10\\sqrt{2} \\sqrt{\\frac{2\\ln \\ln n + \\ln(17/\\delta)}{n}}\n",
    "\\end{align}\n"
   ]
  },
  {
   "cell_type": "code",
   "execution_count": 10,
   "metadata": {
    "ExecuteTime": {
     "end_time": "2019-02-28T16:11:47.101823Z",
     "start_time": "2019-02-28T16:11:30.902534Z"
    }
   },
   "outputs": [
    {
     "name": "stderr",
     "output_type": "stream",
     "text": [
      "100%|██████████| 50/50 [00:17<00:00,  1.66it/s]\n"
     ]
    },
    {
     "data": {
      "image/png": "[encoded data removed]",
      "text/plain": [
       "<Figure size 432x288 with 1 Axes>"
      ]
     },
     "metadata": {
      "needs_background": "light"
     },
     "output_type": "display_data"
    }
   ],
   "source": [
    "theta_hist = np.zeros((linspace_size, n_replications))\n",
    "for idx, n in enumerate(tqdm(n_samples)):\n",
    "    theta_hat = np.array([np.median(np.random.normal(0, 1, n)) for k in range(n_replications)])\n",
    "    theta_hist[idx, :] = np.sqrt(n/(2*np.log(np.log(n)) + np.log(1/δ_lil)))*theta_hat\n",
    "plot_percentiles(n_samples, theta_hist, q_alpha)"
   ]
  },
  {
   "cell_type": "markdown",
   "metadata": {},
   "source": [
    "## Absolute loss and Cauchy observations"
   ]
  },
  {
   "cell_type": "code",
   "execution_count": 11,
   "metadata": {
    "ExecuteTime": {
     "end_time": "2019-02-28T16:12:13.418945Z",
     "start_time": "2019-02-28T16:11:47.104844Z"
    }
   },
   "outputs": [
    {
     "name": "stderr",
     "output_type": "stream",
     "text": [
      "100%|██████████| 50/50 [00:28<00:00,  1.03s/it]\n"
     ]
    },
    {
     "data": {
      "image/png": "[encoded data removed]",
      "text/plain": [
       "<Figure size 432x288 with 1 Axes>"
      ]
     },
     "metadata": {
      "needs_background": "light"
     },
     "output_type": "display_data"
    }
   ],
   "source": [
    "theta_hist = np.zeros((linspace_size, n_replications))\n",
    "for idx, n in enumerate(tqdm(n_samples)):\n",
    "    theta_hat = np.array([np.median(np.random.standard_cauchy(n)) for k in range(n_replications)])\n",
    "    theta_hist[idx, :] = np.sqrt(n/(2*np.log(np.log(n)) + np.log(1/δ_lil)))*theta_hat\n",
    "\n",
    "plot_percentiles(n_samples, theta_hist, q_alpha)"
   ]
  },
  {
   "cell_type": "markdown",
   "metadata": {},
   "source": [
    "## Conclusions\n",
    "- our theoretical constants are bigger than the empirical constants we estimated on the three examples.\n",
    "- the convergence rate seems to be tight (the empirical quantiles multiplied by the rate are roughly constant across the number of samples).\n",
    "- we don't observe a warm-up time $n_0$ in practice"
   ]
  },
  {
   "cell_type": "markdown",
   "metadata": {},
   "source": [
    "# Robust lil UCB vs vanilla lil UCB"
   ]
  },
  {
   "cell_type": "markdown",
   "metadata": {},
   "source": [
    "Express the number of pulls as a function of the number of the number of arms."
   ]
  },
  {
   "cell_type": "markdown",
   "metadata": {},
   "source": [
    "## Contamination model"
   ]
  },
  {
   "cell_type": "code",
   "execution_count": 4,
   "metadata": {
    "ExecuteTime": {
     "end_time": "2019-03-04T17:20:57.672327Z",
     "start_time": "2019-03-04T17:20:57.626100Z"
    },
    "collapsed": true
   },
   "outputs": [],
   "source": [
    "%autoreload\n",
    "from ucb_classes import lilUCB, robust_lilUCB\n",
    "from mab_class import MAB"
   ]
  },
  {
   "cell_type": "code",
   "execution_count": 9,
   "metadata": {
    "ExecuteTime": {
     "end_time": "2019-03-04T17:20:58.059266Z",
     "start_time": "2019-03-04T17:20:58.050904Z"
    },
    "collapsed": true
   },
   "outputs": [],
   "source": [
    "def robust_lilUCB_exp(mab, K):    \n",
    "    robust_lilUCB_proc = robust_lilUCB(δ=0.1, ϵ=1., β=1, K=K)\n",
    "    \n",
    "    T = robust_lilUCB_proc.run(mab)\n",
    "    \n",
    "    return np.sum(T), np.argmax(T)"
   ]
  },
  {
   "cell_type": "code",
   "execution_count": 10,
   "metadata": {
    "ExecuteTime": {
     "end_time": "2019-03-04T17:20:58.459253Z",
     "start_time": "2019-03-04T17:20:58.445434Z"
    },
    "collapsed": true
   },
   "outputs": [],
   "source": [
    "def lilUCB_exp(mab, K):    \n",
    "    lilUCB_proc = lilUCB(δ=0.1, ϵ=0.01, β=1, K=K)\n",
    "    \n",
    "    T = lilUCB_proc.run(mab)\n",
    "    \n",
    "    return np.sum(T), np.argmax(T)"
   ]
  },
  {
   "cell_type": "code",
   "execution_count": 11,
   "metadata": {
    "ExecuteTime": {
     "end_time": "2019-03-04T17:20:58.696637Z",
     "start_time": "2019-03-04T17:20:58.682876Z"
    },
    "collapsed": true
   },
   "outputs": [],
   "source": [
    "#%load_ext line_profiler"
   ]
  },
  {
   "cell_type": "code",
   "execution_count": 12,
   "metadata": {
    "ExecuteTime": {
     "end_time": "2019-03-04T17:16:00.023066Z",
     "start_time": "2019-03-04T17:15:37.816292Z"
    },
    "collapsed": true
   },
   "outputs": [],
   "source": [
    "K = 1000\n",
    "\n",
    "mab = MAB(K, 'sparse', 'gaussian')\n",
    "\n",
    "lilUCB_proc = lilUCB(δ=0.1, ϵ=0.01, β=1, K=K)\n",
    "\n",
    "# lilUCB \n",
    "#%lprun -f lilUCB_proc.run lilUCB_proc.run(mab)"
   ]
  },
  {
   "cell_type": "code",
   "execution_count": 13,
   "metadata": {},
   "outputs": [
    {
     "data": {
      "text/plain": [
       "5.337604312642313e-06"
      ]
     },
     "execution_count": 13,
     "metadata": {},
     "output_type": "execute_result"
    }
   ],
   "source": [
    "lilUCB_proc.δ"
   ]
  },
  {
   "cell_type": "code",
   "execution_count": 14,
   "metadata": {
    "ExecuteTime": {
     "end_time": "2019-03-04T17:21:42.143719Z",
     "start_time": "2019-03-04T17:21:36.597939Z"
    },
    "collapsed": true
   },
   "outputs": [
    {
     "data": {
      "text/plain": [
       "0.006005662673977518"
      ]
     },
     "execution_count": 14,
     "metadata": {},
     "output_type": "execute_result"
    }
   ],
   "source": [
    "K = 100\n",
    "\n",
    "mab = MAB(K, 'sparse', 'gaussian')\n",
    "\n",
    "robust_lilUCB_proc = robust_lilUCB(δ=0.1, ϵ=1., β=1, K=K)\n",
    "\n",
    "# lilUCB \n",
    "#%lprun -f robust_lilUCB_proc.run robust_lilUCB_proc.run(mab)\n",
    "\n",
    "robust_lilUCB_proc.δ"
   ]
  },
  {
   "cell_type": "markdown",
   "metadata": {},
   "source": [
    "## Sparse scenario"
   ]
  },
  {
   "cell_type": "code",
   "execution_count": null,
   "metadata": {
    "ExecuteTime": {
     "end_time": "2019-03-04T17:15:10.791034Z",
     "start_time": "2019-03-04T17:15:05.613133Z"
    },
    "scrolled": false
   },
   "outputs": [
    {
     "name": "stderr",
     "output_type": "stream",
     "text": [
      " 67%|██████▋   | 2/3 [01:07<00:21, 21.32s/it]"
     ]
    }
   ],
   "source": [
    "nb_of_arms = np.logspace(1, 3, 3, dtype=int)\n",
    "\n",
    "n_repeat = 100\n",
    "\n",
    "BAI_lilUCB = np.zeros((nb_of_arms.shape[0],n_repeat), dtype=int)\n",
    "BAI_lilUCB_huber = np.zeros((nb_of_arms.shape[0],n_repeat), dtype=int)\n",
    "BAI_robustlilUCB_huber = np.zeros((nb_of_arms.shape[0],n_repeat), dtype=int)\n",
    "BAI_robustlilUCB = np.zeros((nb_of_arms.shape[0],n_repeat), dtype=int)\n",
    "\n",
    "nb_of_pulls_lilUCB = np.zeros((nb_of_arms.shape[0],n_repeat), dtype=int)\n",
    "nb_of_pulls_lilUCB_huber = np.zeros((nb_of_arms.shape[0],n_repeat), dtype=int)\n",
    "nb_of_pulls_robustlilUCB_huber = np.zeros((nb_of_arms.shape[0],n_repeat), dtype=int)\n",
    "nb_of_pulls_robustlilUCB = np.zeros((nb_of_arms.shape[0],n_repeat), dtype=int)\n",
    "\n",
    "p = mp.Pool(mp.cpu_count())\n",
    "\n",
    "for i, K in enumerate(tqdm(nb_of_arms)): \n",
    "    \n",
    "    mab = MAB(K, 'sparse', 'gaussian')\n",
    "    \n",
    "    # lilUCB \n",
    "    f = partial(lilUCB_exp, mab)\n",
    "    result = np.array(p.map_async(f, [K]*n_repeat).get())\n",
    "    nb_of_pulls_lilUCB[i, :] = result[:,0]\n",
    "    BAI_lilUCB[i, :] = result[:, 1]\n",
    "\n",
    "    # robust lil UCB\n",
    "    f = partial(robust_lilUCB_exp, mab)\n",
    "    result = np.array(p.map_async(f, [K]*n_repeat).get())\n",
    "    nb_of_pulls_robustlilUCB[i, :] = result[:,0]\n",
    "    BAI_robustlilUCB[i, :] = result[:, 1]\n",
    "\n",
    "    mab = MAB(K, 'sparse', 'huber')\n",
    "    \n",
    "    # lilUCB contaminated \n",
    "    f = partial(lilUCB_exp, mab)\n",
    "    result = np.array(p.map_async(f, [K]*n_repeat).get())\n",
    "    nb_of_pulls_lilUCB_huber[i, :] = result[:,0]\n",
    "    BAI_lilUCB_huber[i, :] = result[:, 1]\n",
    "\n",
    "    # robust lilUCB contaminated \n",
    "    f = partial(robust_lilUCB_exp, mab)\n",
    "    result = np.array(p.map_async(f, [K]*n_repeat).get())\n",
    "    nb_of_pulls_robustlilUCB_huber[i, :] = result[:,0]\n",
    "    BAI_robustlilUCB_huber[i, :] = result[:, 1]\n",
    "\n",
    "np.save('BAI_lilUCB.npy', BAI_lilUCB)    \n",
    "np.save('BAI_lilUCB_huber.npy', BAI_lilUCB_huber) \n",
    "np.save('BAI_robustlilUCB_huber.npy', BAI_robustlilUCB_huber) \n",
    "np.save('BAI_robustlilUCB.npy', BAI_robustlilUCB_huber) \n",
    "\n",
    "np.save('nb_of_pulls_lilUCB.npy', nb_of_pulls_lilUCB)\n",
    "np.save('nb_of_pulls_lilUCB_huber.npy', nb_of_pulls_lilUCB_huber)\n",
    "np.save('nb_of_pulls_robustlilUCB_huber.npy', nb_of_pulls_robustlilUCB_huber)\n",
    "np.save('nb_of_pulls_robustlilUCB.npy', nb_of_pulls_robustlilUCB)\n",
    "\n",
    "p.close()"
   ]
  },
  {
   "cell_type": "code",
   "execution_count": null,
   "metadata": {
    "ExecuteTime": {
     "end_time": "2019-02-01T23:10:16.974947Z",
     "start_time": "2019-02-01T23:10:15.950737Z"
    },
    "collapsed": true
   },
   "outputs": [],
   "source": [
    "sns.set()\n",
    "\n",
    "H_1 = [4*K for K in nb_of_arms]\n",
    "plt.plot(nb_of_arms, np.mean(nb_of_pulls_lilUCB, axis=1)/H_1, linewidth=1)\n",
    "\n",
    "plt.fill_between(nb_of_arms, np.percentile(nb_of_pulls_lilUCB, q=99, axis=1)/H_1, \n",
    "                 np.percentile(nb_of_pulls_lilUCB, axis=1, q=1)/H_1, alpha=.5)\n",
    "\n",
    "plt.semilogx(nb_of_arms, np.mean(nb_of_pulls_robustlilUCB_huber, axis=1)/H_1, linewidth=1)\n",
    "plt.fill_between(nb_of_arms, np.percentile(nb_of_pulls_robustlilUCB_huber, q=99, axis=1)/H_1, \n",
    "                 np.percentile(nb_of_pulls_robustlilUCB_huber, q=1, axis=1)/H_1, alpha=.5)\n",
    "\n",
    "plt.xlabel('Number of arms K')\n",
    "plt.ylabel('Number of pulls (units of $H_1$)')\n",
    "plt.legend([\"lil'UCB (Gaussian model)\", \"Robust lil'UCB (Huber model)\"], loc='lower right')\n",
    "savefig('number_of_pulls_sparse.pdf', bbox_inches='tight', dpi=500)"
   ]
  },
  {
   "cell_type": "code",
   "execution_count": null,
   "metadata": {
    "ExecuteTime": {
     "end_time": "2019-02-02T00:07:25.252029Z",
     "start_time": "2019-02-02T00:07:24.660588Z"
    },
    "collapsed": true
   },
   "outputs": [],
   "source": [
    "ind = np.array([10, 20, 30])\n",
    "width = 2\n",
    "\n",
    "prop_1 = np.sum(BAI_lilUCB==0, axis=1)/n_repeat\n",
    "prop_2 = np.sum(BAI_lilUCB_huber==0, axis=1)/n_repeat\n",
    "prop_3 = np.sum(BAI_robustlilUCB==0, axis=1)/n_repeat\n",
    "prop_4 = np.sum(BAI_robustlilUCB_huber==0, axis=1)/n_repeat\n",
    "\n",
    "## the bars\n",
    "rects1 = plt.bar(ind, prop_1, width)\n",
    "rects2 = plt.bar(ind+width, prop_2, width, color='#d62728')\n",
    "rects3 = plt.bar(ind+2*width, prop_3, width, color='#2ca02c')\n",
    "rects4 = plt.bar(ind+3*width, prop_4, width)\n",
    "plt.xlabel('Number of arms K')\n",
    "plt.ylabel('Prop. of correct best arm identification')\n",
    "plt.legend([\"lil'UCB (Gaussian model)\", \"lil'UCB (Huber model)\", \n",
    "            \"Robust lil'UCB (Gaussian model)\",\"Robust lil'UCB (Huber model)\"])\n",
    "plt.ylim(0, 1.5)\n",
    "plt.xticks(ind+width, [\"{} arms\".format(x) for x in nb_of_arms])\n",
    "savefig('prop_correct_bai_sparse.pdf', bbox_inches='tight', dpi=500)"
   ]
  },
  {
   "cell_type": "markdown",
   "metadata": {},
   "source": [
    "## Alpha scenario"
   ]
  },
  {
   "cell_type": "code",
   "execution_count": null,
   "metadata": {
    "ExecuteTime": {
     "end_time": "2019-03-04T17:15:10.791034Z",
     "start_time": "2019-03-04T17:15:05.613133Z"
    },
    "scrolled": false
   },
   "outputs": [],
   "source": [
    "nb_of_arms = np.logspace(1, 3, 3, dtype=int)\n",
    "\n",
    "n_repeat = 100\n",
    "\n",
    "BAI_lilUCB = np.zeros((nb_of_arms.shape[0],n_repeat), dtype=int)\n",
    "BAI_lilUCB_huber = np.zeros((nb_of_arms.shape[0],n_repeat), dtype=int)\n",
    "BAI_robustlilUCB_huber = np.zeros((nb_of_arms.shape[0],n_repeat), dtype=int)\n",
    "BAI_robustlilUCB = np.zeros((nb_of_arms.shape[0],n_repeat), dtype=int)\n",
    "\n",
    "nb_of_pulls_lilUCB = np.zeros((nb_of_arms.shape[0],n_repeat), dtype=int)\n",
    "nb_of_pulls_lilUCB_huber = np.zeros((nb_of_arms.shape[0],n_repeat), dtype=int)\n",
    "nb_of_pulls_robustlilUCB_huber = np.zeros((nb_of_arms.shape[0],n_repeat), dtype=int)\n",
    "nb_of_pulls_robustlilUCB = np.zeros((nb_of_arms.shape[0],n_repeat), dtype=int)\n",
    "\n",
    "p = mp.Pool(mp.cpu_count())\n",
    "\n",
    "for i, K in enumerate(tqdm(nb_of_arms)): \n",
    "    \n",
    "    #mab = MAB(K, 'sparse', 'gaussian')\n",
    "    mab = MAB(K, 'alpha', 'gaussian', α=.3)\n",
    "    \n",
    "    # lilUCB \n",
    "    f = partial(lilUCB_exp, mab)\n",
    "    result = np.array(p.map_async(f, [K]*n_repeat).get())\n",
    "    nb_of_pulls_lilUCB[i, :] = result[:,0]\n",
    "    BAI_lilUCB[i, :] = result[:, 1]\n",
    "\n",
    "    # robust lil UCB\n",
    "    f = partial(robust_lilUCB_exp, mab)\n",
    "    result = np.array(p.map_async(f, [K]*n_repeat).get())\n",
    "    nb_of_pulls_robustlilUCB[i, :] = result[:,0]\n",
    "    BAI_robustlilUCB[i, :] = result[:, 1]\n",
    "\n",
    "    #mab = MAB(K, 'sparse', 'huber')\n",
    "    mab = MAB(K, 'alpha', 'huber', α=.3)\n",
    "    \n",
    "    # lilUCB contaminated \n",
    "    f = partial(lilUCB_exp, mab)\n",
    "    result = np.array(p.map_async(f, [K]*n_repeat).get())\n",
    "    nb_of_pulls_lilUCB_huber[i, :] = result[:,0]\n",
    "    BAI_lilUCB_huber[i, :] = result[:, 1]\n",
    "\n",
    "    # robust lilUCB contaminated \n",
    "    f = partial(robust_lilUCB_exp, mab)\n",
    "    result = np.array(p.map_async(f, [K]*n_repeat).get())\n",
    "    nb_of_pulls_robustlilUCB_huber[i, :] = result[:,0]\n",
    "    BAI_robustlilUCB_huber[i, :] = result[:, 1]\n",
    "        \n",
    "np.save('BAI_lilUCB_alpha.npy', BAI_lilUCB)    \n",
    "np.save('BAI_lilUCB_huber_alpha.npy', BAI_lilUCB_huber) \n",
    "np.save('BAI_robustlilUCB_huber_alpha.npy', BAI_robustlilUCB_huber) \n",
    "np.save('BAI_robustlilUCB_alpha.npy', BAI_robustlilUCB_huber) \n",
    "\n",
    "np.save('nb_of_pulls_lilUCB_alpha.npy', nb_of_pulls_lilUCB)\n",
    "np.save('nb_of_pulls_lilUCB_huber_alpha.npy', nb_of_pulls_lilUCB_huber)\n",
    "np.save('nb_of_pulls_robustlilUCB_huber_alpha.npy', nb_of_pulls_robustlilUCB_huber)\n",
    "np.save('nb_of_pulls_robustlilUCB_alpha.npy', nb_of_pulls_robustlilUCB)\n",
    "\n",
    "        \n",
    "p.close()"
   ]
  },
  {
   "cell_type": "code",
   "execution_count": null,
   "metadata": {
    "ExecuteTime": {
     "end_time": "2019-02-01T23:10:16.974947Z",
     "start_time": "2019-02-01T23:10:15.950737Z"
    },
    "collapsed": true
   },
   "outputs": [],
   "source": [
    "sns.set()\n",
    "\n",
    "H_1 = [3*K/2 for K in nb_of_arms]\n",
    "plt.plot(nb_of_arms, np.mean(nb_of_pulls_lilUCB, axis=1)/H_1, linewidth=1)\n",
    "\n",
    "plt.fill_between(nb_of_arms, np.percentile(nb_of_pulls_lilUCB, q=99, axis=1)/H_1, \n",
    "                 np.percentile(nb_of_pulls_lilUCB, axis=1, q=1)/H_1, alpha=.5)\n",
    "\n",
    "plt.semilogx(nb_of_arms, np.mean(nb_of_pulls_robustlilUCB_huber, axis=1)/H_1, linewidth=1)\n",
    "plt.fill_between(nb_of_arms, np.percentile(nb_of_pulls_robustlilUCB_huber, q=99, axis=1)/H_1, \n",
    "                 np.percentile(nb_of_pulls_robustlilUCB_huber, q=1, axis=1)/H_1, alpha=.5)\n",
    "\n",
    "plt.xlabel('Number of arms K')\n",
    "plt.ylabel('Number of pulls (units of $H_1$)')\n",
    "plt.legend([\"lil'UCB (Gaussian model)\", \"Robust lil'UCB (Huber model)\"], loc='lower right')\n",
    "savefig('number_of_pulls_alpha_3.pdf', bbox_inches='tight', dpi=500)"
   ]
  },
  {
   "cell_type": "code",
   "execution_count": null,
   "metadata": {
    "ExecuteTime": {
     "end_time": "2019-02-02T00:07:25.252029Z",
     "start_time": "2019-02-02T00:07:24.660588Z"
    },
    "collapsed": true
   },
   "outputs": [],
   "source": [
    "ind = np.array([10, 20, 30])\n",
    "width = 2\n",
    "\n",
    "prop_1 = np.sum(BAI_lilUCB==0, axis=1)/n_repeat\n",
    "prop_2 = np.sum(BAI_lilUCB_huber==0, axis=1)/n_repeat\n",
    "prop_3 = np.sum(BAI_robustlilUCB==0, axis=1)/n_repeat\n",
    "prop_4 = np.sum(BAI_robustlilUCB_huber==0, axis=1)/n_repeat\n",
    "\n",
    "## the bars\n",
    "rects1 = plt.bar(ind, prop_1, width)\n",
    "rects2 = plt.bar(ind+width, prop_2, width, color='#d62728')\n",
    "rects3 = plt.bar(ind+2*width, prop_3, width, color='#2ca02c')\n",
    "rects4 = plt.bar(ind+3*width, prop_4, width)\n",
    "plt.xlabel('Number of arms K')\n",
    "plt.ylabel('Prop. of correct best arm identification')\n",
    "plt.legend([\"lil'UCB (Gaussian model)\", \"lil'UCB (Huber model)\", \n",
    "            \"Robust lil'UCB (Gaussian model)\",\"Robust lil'UCB (Huber model)\"])\n",
    "plt.ylim(0, 1.5)\n",
    "plt.xticks(ind+width, [\"{} arms\".format(x) for x in nb_of_arms])\n",
    "savefig('prop_correct_bai_alpha_3.pdf', bbox_inches='tight', dpi=500)"
   ]
  },
  {
   "cell_type": "markdown",
   "metadata": {
    "ExecuteTime": {
     "end_time": "2019-02-21T20:55:33.165854Z",
     "start_time": "2019-02-21T20:55:33.158932Z"
    }
   },
   "source": [
    "# Compare LIL bound to union bound "
   ]
  },
  {
   "cell_type": "markdown",
   "metadata": {
    "ExecuteTime": {
     "end_time": "2019-02-22T07:45:01.586935Z",
     "start_time": "2019-02-22T07:45:01.582277Z"
    }
   },
   "source": [
    "$Y_1, \\dots, Y_n$ iid sub-gaussian random variables with mean $\\mu$ and sub-Gaussian variance $\\sigma^2$.\n",
    "\n",
    "**Union bound**\n",
    "\n",
    "The folowing tail bound inequality stems from the sub-Gaussian assumption :\n",
    "\n",
    "\\begin{align}\n",
    "\\mathbb{P}\\left( \\lvert \\bar{Y}_n - \\mu \\rvert > \\sigma \\sqrt{2} \\sqrt{\\frac{\\ln 1/\\delta}{n}} \\right) \\leq \\delta\n",
    "\\end{align}\n",
    "\n",
    "A simple union bound gives\n",
    "\n",
    "\\begin{align}\n",
    "\\mathbb{P}\\left(\\forall n \\geq 1, \\lvert \\bar{Y}_n - \\mu \\rvert > \\sigma \\sqrt{2} \\sqrt{\\frac{\\ln n^2/\\delta}{n}} \\right) \\leq \\frac{\\pi^2}{6}\\delta\n",
    "\\end{align}\n",
    "\n",
    "\n",
    "**LIL bound**\n",
    "\n",
    "The loss corresponding to the mean is given by $\\phi(x, y) = (x-y)^2$. The loss verifies the assumptions of Theorem 2 with $r=+\\infty, n_0 = 1, \\alpha=2$ therefore, for any $\\varepsilon > 0$ we have,\n",
    "\n",
    "\\begin{align}\n",
    "\\mathbb{P}\\left( \\forall n \\geq 1, \\lvert \\bar{Y}_n - \\mu \\rvert \\geq 2 \\sigma \\sqrt{\\frac{2(1+\\varepsilon)\\ln \\ln n + \\ln 1/\\delta}{n}} \\right) \\leq \\frac{4(1+1/\\varepsilon)}{(\\ln(1+\\varepsilon))^{1+\\varepsilon}}\n",
    "\\end{align}\n",
    "\n"
   ]
  },
  {
   "cell_type": "code",
   "execution_count": 3,
   "metadata": {
    "ExecuteTime": {
     "end_time": "2019-03-07T18:57:39.167372Z",
     "start_time": "2019-03-07T18:57:39.132584Z"
    },
    "scrolled": false
   },
   "outputs": [
    {
     "name": "stdout",
     "output_type": "stream",
     "text": [
      "Union bound confidence : 0.06079271018540268\n",
      "LIL confidence : 0.006005662673977518\n",
      "LIL confidence : 0.006005662673977518\n",
      "LIL original confidence : 2.6871807199787257e-06\n"
     ]
    },
    {
     "data": {
      "text/plain": [
       "0.18900229403828389"
      ]
     },
     "execution_count": 3,
     "metadata": {},
     "output_type": "execute_result"
    }
   ],
   "source": [
    "def UB(n, ν, σ=1.):\n",
    "    δ = 6*ν/np.pi**2\n",
    "    print(\"Union bound confidence : {}\".format(δ))\n",
    "    return np.sqrt(2)*σ*np.sqrt((2*np.log(n) - np.log(δ))/n)\n",
    "\n",
    "UB(n=1e3, ν=0.1, σ=1.)\n",
    "\n",
    "def LIL(n, ν, ɛ=1., σ=1.):\n",
    "    δ = np.log(1+ɛ)**(1+ɛ)/(4*(1+1/ɛ))*ν\n",
    "    print(\"LIL confidence : {}\".format(δ))\n",
    "    return 2*σ*np.sqrt((2*((1+ɛ)*np.log(np.log(n)) + np.log(1/δ)))/n)\n",
    "\n",
    "LIL(n=1e3, ν=0.1, ɛ=1., σ=1.)\n",
    "\n",
    "def LIL_empirical(n, ν, ɛ=1., σ=1.):\n",
    "    δ = np.log(1+ɛ)**(1+ɛ)/(4*(1+1/ɛ))*ν\n",
    "    print(\"LIL confidence : {}\".format(δ))\n",
    "    return σ*np.sqrt((2*((1+ɛ)*np.log(np.log(n)) + np.log(1/δ)))/n)\n",
    "\n",
    "LIL_empirical(n=1e3, ν=0.1, ɛ=1., σ=1.)\n",
    "\n",
    "def LIL_original(n, ν, ɛ=.01, σ=1.):\n",
    "    δ = np.log(1+ɛ)*(ν*ɛ/(4 + 2*ɛ))**(1/(1+ɛ))\n",
    "    print(\"LIL original confidence : {}\".format(δ))\n",
    "    return (1+np.sqrt(ɛ))*σ*np.sqrt(2*np.log(np.log((1+ɛ)*n)/δ)/n)\n",
    "\n",
    "LIL_original(n=1e3, ν=0.1, ɛ=.01, σ=1.)"
   ]
  },
  {
   "cell_type": "code",
   "execution_count": 4,
   "metadata": {
    "ExecuteTime": {
     "end_time": "2019-03-07T18:57:41.138358Z",
     "start_time": "2019-03-07T18:57:39.794994Z"
    }
   },
   "outputs": [
    {
     "name": "stdout",
     "output_type": "stream",
     "text": [
      "LIL confidence : 1.7123815553433657e-05\n",
      "Union bound confidence : 0.006079271018540266\n",
      "LIL confidence : 8.561907776716828e-05\n",
      "Union bound confidence : 0.03039635509270134\n",
      "LIL confidence : 0.00017123815553433657\n",
      "Union bound confidence : 0.06079271018540268\n"
     ]
    },
    {
     "data": {
      "text/plain": [
       "<matplotlib.text.Text at 0x1a0c2dea20>"
      ]
     },
     "execution_count": 4,
     "metadata": {},
     "output_type": "execute_result"
    },
    {
     "data": {
      "image/png": "[encoded data removed]",
      "text/plain": [
       "<matplotlib.figure.Figure at 0x104f28320>"
      ]
     },
     "metadata": {},
     "output_type": "display_data"
    }
   ],
   "source": [
    "n = np.logspace(1, 16, 16, dtype=int)\n",
    "\n",
    "ɛ = 0.1\n",
    "\n",
    "ν = 0.01\n",
    "plt.loglog(n, LIL(n, ν, ɛ)/UB(n, ν))\n",
    "\n",
    "ν = 0.05\n",
    "plt.loglog(n, LIL(n, ν, ɛ)/UB(n, ν))\n",
    "\n",
    "ν = 0.1\n",
    "plt.loglog(n, LIL(n, ν, ɛ)/UB(n, ν))\n",
    "\n",
    "plt.legend(title=\"Confidence\", labels=['99%', '95%', '90%'])\n",
    "\n",
    "plt.xlabel('n')\n",
    "#plt.title('LIL bound over union bound upper bound ratio (log scale)')"
   ]
  },
  {
   "cell_type": "code",
   "execution_count": 5,
   "metadata": {
    "ExecuteTime": {
     "end_time": "2019-03-07T18:57:41.997763Z",
     "start_time": "2019-03-07T18:57:41.140289Z"
    }
   },
   "outputs": [
    {
     "name": "stdout",
     "output_type": "stream",
     "text": [
      "LIL original confidence : 2.749146381419433e-07\n",
      "Union bound confidence : 0.006079271018540266\n",
      "LIL original confidence : 1.3528429233171744e-06\n",
      "Union bound confidence : 0.03039635509270134\n",
      "LIL original confidence : 2.6871807199787257e-06\n",
      "Union bound confidence : 0.06079271018540268\n"
     ]
    },
    {
     "data": {
      "text/plain": [
       "<matplotlib.text.Text at 0x1a18d80240>"
      ]
     },
     "execution_count": 5,
     "metadata": {},
     "output_type": "execute_result"
    },
    {
     "data": {
      "image/png": "[encoded data removed]",
      "text/plain": [
       "<matplotlib.figure.Figure at 0x1a18da6978>"
      ]
     },
     "metadata": {},
     "output_type": "display_data"
    }
   ],
   "source": [
    "n = np.logspace(1, 16, 16, dtype=int)\n",
    "\n",
    "ɛ = 0.01\n",
    "\n",
    "ν = 0.01\n",
    "plt.loglog(n, LIL_original(n, ν, ɛ)/UB(n, ν))\n",
    "\n",
    "ν = 0.05\n",
    "plt.loglog(n, LIL_original(n, ν, ɛ)/UB(n, ν))\n",
    "\n",
    "ν = 0.1\n",
    "plt.loglog(n, LIL_original(n, ν, ɛ)/UB(n, ν))\n",
    "\n",
    "plt.legend(title=\"Confidence\", labels=['99%', '95%', '90%'])\n",
    "\n",
    "plt.xlabel('n')\n",
    "#plt.title('LIL bound over union bound upper bound ratio (log scale)')"
   ]
  },
  {
   "cell_type": "code",
   "execution_count": 6,
   "metadata": {
    "ExecuteTime": {
     "end_time": "2019-03-07T18:57:43.037943Z",
     "start_time": "2019-03-07T18:57:41.999683Z"
    }
   },
   "outputs": [
    {
     "name": "stdout",
     "output_type": "stream",
     "text": [
      "LIL confidence : 2.3519849129445292e-07\n",
      "Union bound confidence : 0.006079271018540266\n",
      "LIL confidence : 1.1759924564722647e-06\n",
      "Union bound confidence : 0.03039635509270134\n",
      "LIL confidence : 2.3519849129445294e-06\n",
      "Union bound confidence : 0.06079271018540268\n"
     ]
    },
    {
     "data": {
      "text/plain": [
       "<matplotlib.text.Text at 0x1a18c2f3c8>"
      ]
     },
     "execution_count": 6,
     "metadata": {},
     "output_type": "execute_result"
    },
    {
     "data": {
      "image/png": "[encoded data removed]",
      "text/plain": [
       "<matplotlib.figure.Figure at 0x1a18d1be80>"
      ]
     },
     "metadata": {},
     "output_type": "display_data"
    }
   ],
   "source": [
    "# empirical \n",
    "\n",
    "n = np.logspace(1, 16, 16, dtype=int)\n",
    "\n",
    "ɛ = 0.01\n",
    "\n",
    "ν = 0.01\n",
    "plt.loglog(n, LIL_empirical(n, ν, ɛ)/UB(n, ν))\n",
    "\n",
    "ν = 0.05\n",
    "plt.loglog(n, LIL_empirical(n, ν, ɛ)/UB(n, ν))\n",
    "\n",
    "ν = 0.1\n",
    "plt.loglog(n, LIL_empirical(n, ν, ɛ)/UB(n, ν))\n",
    "\n",
    "plt.legend(title=\"Confidence\", labels=['99%', '95%', '90%'])\n",
    "\n",
    "plt.xlabel('n')\n",
    "#plt.title('LIL bound over union bound upper bound ratio (log scale)')"
   ]
  },
  {
   "cell_type": "code",
   "execution_count": null,
   "metadata": {
    "collapsed": true
   },
   "outputs": [],
   "source": []
  }
 ],
 "metadata": {
  "kernelspec": {
   "display_name": "Python 3",
   "language": "python",
   "name": "python3"
  },
  "language_info": {
   "codemirror_mode": {
    "name": "ipython",
    "version": 3
   },
   "file_extension": ".py",
   "mimetype": "text/x-python",
   "name": "python",
   "nbconvert_exporter": "python",
   "pygments_lexer": "ipython3",
   "version": "3.5.2"
  },
  "toc": {
   "nav_menu": {},
   "number_sections": true,
   "sideBar": true,
   "skip_h1_title": false,
   "toc_cell": false,
   "toc_position": {},
   "toc_section_display": "block",
   "toc_window_display": true
  }
 },
 "nbformat": 4,
 "nbformat_minor": 2
}
