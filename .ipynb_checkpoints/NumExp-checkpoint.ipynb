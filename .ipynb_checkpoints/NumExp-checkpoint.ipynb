{
 "cells": [
  {
   "cell_type": "code",
   "execution_count": 10,
   "metadata": {
    "ExecuteTime": {
     "end_time": "2019-03-08T12:22:21.885862Z",
     "start_time": "2019-03-08T12:22:19.787825Z"
    }
   },
   "outputs": [
    {
     "name": "stdout",
     "output_type": "stream",
     "text": [
      "Populating the interactive namespace from numpy and matplotlib\n",
      "The autoreload extension is already loaded. To reload it, use:\n",
      "  %reload_ext autoreload\n"
     ]
    },
    {
     "name": "stderr",
     "output_type": "stream",
     "text": [
      "/usr/local/lib/python3.5/dist-packages/IPython/core/magics/pylab.py:160: UserWarning: pylab import has clobbered these variables: ['f']\n",
      "`%matplotlib` prevents importing * from pylab and numpy\n",
      "  \"\\n`%matplotlib` prevents importing * from pylab and numpy\"\n"
     ]
    }
   ],
   "source": [
    "import matplotlib.pyplot as plt\n",
    "%pylab inline\n",
    "\n",
    "import seaborn as sns\n",
    "sns.set()\n",
    "\n",
    "import numpy as np\n",
    "\n",
    "import multiprocessing as mp\n",
    "\n",
    "from tqdm import tqdm\n",
    "\n",
    "import os\n",
    "\n",
    "from functools import partial\n",
    "\n",
    "%load_ext autoreload"
   ]
  },
  {
   "cell_type": "markdown",
   "metadata": {},
   "source": [
    "# Estimation of constant via Monte-Carlo"
   ]
  },
  {
   "cell_type": "code",
   "execution_count": null,
   "metadata": {
    "ExecuteTime": {
     "end_time": "2019-03-08T12:22:21.905819Z",
     "start_time": "2019-03-08T12:22:21.888320Z"
    },
    "collapsed": true
   },
   "outputs": [],
   "source": [
    "δ = 0.1\n",
    "q_alpha = (100*δ)/2\n",
    "\n",
    "logspace_size = 4\n",
    "n_samples = np.logspace(2, 5, logspace_size, dtype=int)\n",
    "n_replications = 5000\n",
    "\n",
    "ϵ = .01\n",
    "\n",
    "#δ_lil = np.log(1+ϵ)**(1+ϵ)/(4*(1 + 1/ϵ))*δ\n",
    "δ_lil = 1/(4*(1 + 1/ϵ))*δ"
   ]
  },
  {
   "cell_type": "code",
   "execution_count": 19,
   "metadata": {
    "ExecuteTime": {
     "end_time": "2019-03-08T12:22:23.284184Z",
     "start_time": "2019-03-08T12:22:23.276846Z"
    },
    "collapsed": true
   },
   "outputs": [],
   "source": [
    "def plot_percentiles(n_samples, theta_hist, q_alpha):\n",
    "    plt.semilogx(n_samples, np.percentile(theta_hist, 100-q_alpha, axis=1), label='(1 - δ)-percentile')\n",
    "    plt.semilogx(n_samples, np.percentile(theta_hist, q_alpha, axis=1), label='δ-percentile')\n",
    "    plt.xlabel('Number of samples')\n",
    "    plt.legend()"
   ]
  },
  {
   "cell_type": "markdown",
   "metadata": {},
   "source": [
    "## Squared loss and Gaussian observations"
   ]
  },
  {
   "cell_type": "markdown",
   "metadata": {},
   "source": [
    "Let $Y_1, \\dots, Y_n$ be i.i.d. Gaussian random variables with variance $1/4$. Consider the loss $\\phi$ given by $\\phi(x, y) = (x-y)^2, \\forall x,y$."
   ]
  },
  {
   "cell_type": "markdown",
   "metadata": {
    "ExecuteTime": {
     "end_time": "2019-02-28T15:55:09.187999Z",
     "start_time": "2019-02-28T15:55:09.182359Z"
    }
   },
   "source": [
    "We have $\\hat{\\theta}_n = \\frac{1}{n}\\sum_{i=1}^n Y_i$ and $\\theta^* = 0$. \n",
    "\n",
    "\n",
    "- Assumption 2.1 holds since $Y$ has a finite expectation\n",
    "\n",
    "Using the fact that $\\phi(y, \\theta) - \\phi(y, 0)= \\theta^2 - 2 \\theta y$ we have\n",
    "\n",
    "- Assumption 2.2 holds with $r=+\\infty, \\alpha=2$.\n",
    "- Assumption 2.3 holds with $\\sigma=1$.\n",
    "\n",
    "Thus Theorem 2 from the paper (with $\\varepsilon=1$) tells us that, for any $\\delta \\in (0, 1/17)$, with probability at least $1-\\delta$,\n",
    "\\begin{align}\n",
    "\\lvert \\hat{\\theta}_n - \\theta^* \\rvert \\le 2\\sqrt{2} \\sqrt{\\frac{(1+\\varepsilon) \\ln \\log_2 n + \\ln(1/\\delta')}{n}}\n",
    "\\end{align}\n",
    "\n",
    "We want to study the empirical behavior of $\\hat{\\theta}_n$ to see if our bound is tight."
   ]
  },
  {
   "cell_type": "code",
   "execution_count": 5,
   "metadata": {
    "ExecuteTime": {
     "end_time": "2019-03-01T13:02:35.923786Z",
     "start_time": "2019-03-01T13:02:01.378405Z"
    }
   },
   "outputs": [
    {
     "name": "stderr",
     "output_type": "stream",
     "text": [
      "100%|██████████| 4/4 [00:47<00:00, 13.82s/it]\n"
     ]
    },
    {
     "data": {
      "image/png": "[encoded data removed]",
      "text/plain": [
       "<Figure size 432x288 with 1 Axes>"
      ]
     },
     "metadata": {
      "needs_background": "light"
     },
     "output_type": "display_data"
    }
   ],
   "source": [
    "theta_hist = np.zeros((logspace_size, n_replications))\n",
    "\n",
    "p = mp.Pool(mp.cpu_count())\n",
    "\n",
    "for idx, n in enumerate(tqdm(n_samples)):\n",
    "    \n",
    "    # draw random variables\n",
    "    Y = np.random.normal(loc=0, scale=.5, size=n*n_replications)    \n",
    "    Y_sliced = [Y[k*n:(k+1)*n] for k in range(n_replications)]\n",
    "    \n",
    "    theta_hat = np.array(list(p.map(np.mean, Y_sliced)))\n",
    "    \n",
    "    theta_hist[idx, :] = np.sqrt(n/((1+ϵ)*np.log(np.log2(n)) + np.log(1/δ_lil)))*theta_hat\n",
    "    \n",
    "p.close()\n",
    "\n",
    "plot_percentiles(n_samples, theta_hist, q_alpha)"
   ]
  },
  {
   "cell_type": "markdown",
   "metadata": {},
   "source": [
    "The plot above shows the empirical percentiles of the distribution of $\\sqrt{\\frac{n}{2\\ln \\ln n + \\ln (1/\\delta)}} \\hat{\\theta}_n$ as $n$ grows. It seems to be slightly decreasing and is comprised between 1 and 2 in absolute value."
   ]
  },
  {
   "cell_type": "markdown",
   "metadata": {},
   "source": [
    "## Absolute loss and Gaussian observations"
   ]
  },
  {
   "cell_type": "markdown",
   "metadata": {},
   "source": [
    "Assume $Y_1, \\dots, Y_n$ are i.i.d. Gaussian random variables with variance $0.5$ and the loss $\\phi$ is given by $\\phi(x, y) = \\lvert x-y \\rvert, \\forall x,y$.\n",
    "\n",
    "- Assumption 2.1 is verified since $Y$ has an expectation\n",
    "\n",
    "We have $\\Phi''(\\theta) = \\sqrt{\\frac{2}{\\pi}}\\exp^{-\\theta^2/2}$\n",
    "\n",
    "- Assumption 2.2 holds for $r=1$ and $\\alpha=0.48$ for example\n",
    "\n",
    "The triangular inequality yields $\\lvert \\phi(Y, \\theta) - \\phi(Y, 0) \\rvert= \\lvert \\lvert Y - \\theta \\rvert - \\lvert Y \\rvert \\rvert  \\leq \\theta$ thus\n",
    "\n",
    "- Assumption 2.3 holds for $\\sigma=1$.\n",
    "\n",
    "Thus Theorem 2 from the paper (with $\\varepsilon=1$) tells us that, for any $\\delta \\in (0, 1/17)$, with probability at least $1-\\delta$,\n",
    "\\begin{align}\n",
    "\\lvert \\hat{\\theta}_n - \\theta^* \\rvert \\le 10\\sqrt{2} \\sqrt{\\frac{2\\ln \\ln n + \\ln(1/\\delta')}{n}}\n",
    "\\end{align}\n"
   ]
  },
  {
   "cell_type": "code",
   "execution_count": 20,
   "metadata": {
    "ExecuteTime": {
     "end_time": "2019-02-28T16:11:47.101823Z",
     "start_time": "2019-02-28T16:11:30.902534Z"
    }
   },
   "outputs": [
    {
     "name": "stderr",
     "output_type": "stream",
     "text": [
      "100%|██████████| 4/4 [00:32<00:00,  9.31s/it]\n"
     ]
    },
    {
     "data": {
      "image/png": "[encoded data removed]",
      "text/plain": [
       "<Figure size 432x288 with 1 Axes>"
      ]
     },
     "metadata": {},
     "output_type": "display_data"
    }
   ],
   "source": [
    "theta_hist = np.zeros((logspace_size, n_replications))\n",
    "for idx, n in enumerate(tqdm(n_samples)):\n",
    "    theta_hat = np.array([np.median(np.random.normal(loc=0, scale=.5, size=n)) for k in range(n_replications)])\n",
    "    theta_hist[idx, :] = np.sqrt(n/((1+ϵ)*np.log(np.log(n)/np.log(2)) + np.log(1/δ_lil)))*theta_hat\n",
    "plot_percentiles(n_samples, theta_hist, q_alpha)"
   ]
  },
  {
   "cell_type": "markdown",
   "metadata": {},
   "source": [
    "## Absolute loss and Cauchy observations"
   ]
  },
  {
   "cell_type": "code",
   "execution_count": 21,
   "metadata": {
    "ExecuteTime": {
     "end_time": "2019-02-28T16:12:13.418945Z",
     "start_time": "2019-02-28T16:11:47.104844Z"
    }
   },
   "outputs": [
    {
     "name": "stderr",
     "output_type": "stream",
     "text": [
      "100%|██████████| 4/4 [00:55<00:00, 16.20s/it]\n"
     ]
    },
    {
     "data": {
      "image/png": "[encoded data removed]",
      "text/plain": [
       "<Figure size 432x288 with 1 Axes>"
      ]
     },
     "metadata": {},
     "output_type": "display_data"
    }
   ],
   "source": [
    "theta_hist = np.zeros((logspace_size, n_replications))\n",
    "for idx, n in enumerate(tqdm(n_samples)):\n",
    "    theta_hat = np.array([np.median(np.random.standard_cauchy(n)) for k in range(n_replications)])\n",
    "    theta_hist[idx, :] = np.sqrt(n/((1+ϵ)*np.log(np.log(n)) + np.log(1/δ_lil)))*theta_hat\n",
    "\n",
    "plot_percentiles(n_samples, theta_hist, q_alpha)"
   ]
  },
  {
   "cell_type": "markdown",
   "metadata": {},
   "source": [
    "# Absolute loss and Huber contaminated model"
   ]
  },
  {
   "cell_type": "code",
   "execution_count": 6,
   "metadata": {
    "collapsed": true
   },
   "outputs": [
    {
     "name": "stderr",
     "output_type": "stream",
     "text": [
      "100%|██████████| 4/4 [00:54<00:00, 15.90s/it]\n"
     ]
    },
    {
     "data": {
      "image/png": "[encoded data removed]",
      "text/plain": [
       "<Figure size 432x288 with 1 Axes>"
      ]
     },
     "metadata": {
      "needs_background": "light"
     },
     "output_type": "display_data"
    }
   ],
   "source": [
    "theta_hist = np.zeros((logspace_size, n_replications))\n",
    "for idx, n in enumerate(tqdm(n_samples)):\n",
    "    theta_hat = np.array([np.median(np.random.normal(loc=0, scale=.5, size=n) + (2*np.random.binomial(1, 0.5, n)-1)*np.random.binomial(1, 0.01, n)*1e2) for k in range(n_replications)])\n",
    "    theta_hist[idx, :] = np.sqrt(n/((1+ϵ)*np.log(np.log2(n)) + np.log(1/δ_lil)))*theta_hat\n",
    "plot_percentiles(n_samples, theta_hist, q_alpha)"
   ]
  },
  {
   "cell_type": "markdown",
   "metadata": {},
   "source": [
    "## Conclusions\n",
    "- our theoretical constants are bigger than the empirical constants we estimated on the three examples.\n",
    "- the convergence rate seems to be tight (the empirical quantiles multiplied by the rate are roughly constant across the number of samples).\n",
    "- we don't observe a warm-up time $n_0$ in practice"
   ]
  },
  {
   "cell_type": "markdown",
   "metadata": {},
   "source": [
    "# Robust lil UCB vs vanilla lil UCB"
   ]
  },
  {
   "cell_type": "markdown",
   "metadata": {},
   "source": [
    "Express the number of pulls as a function of the number of the number of arms."
   ]
  },
  {
   "cell_type": "markdown",
   "metadata": {},
   "source": [
    "## Contamination model"
   ]
  },
  {
   "cell_type": "code",
   "execution_count": 11,
   "metadata": {
    "ExecuteTime": {
     "end_time": "2019-03-04T17:20:57.672327Z",
     "start_time": "2019-03-04T17:20:57.626100Z"
    },
    "collapsed": true
   },
   "outputs": [],
   "source": [
    "%autoreload\n",
    "from ucb_classes import lilUCB, robust_lilUCB\n",
    "from mab_class import MAB"
   ]
  },
  {
   "cell_type": "code",
   "execution_count": 12,
   "metadata": {
    "ExecuteTime": {
     "end_time": "2019-03-04T17:20:58.059266Z",
     "start_time": "2019-03-04T17:20:58.050904Z"
    },
    "collapsed": true
   },
   "outputs": [],
   "source": [
    "def robust_lilUCB_exp(scenario, distrib, K, α=0.):\n",
    "    \n",
    "    np.random.seed()\n",
    "    \n",
    "    mab = MAB(K, scenario, distrib, α)\n",
    "    \n",
    "    robust_lilUCB_proc = robust_lilUCB(K=K, δ=0.1, ϵ=.01, β=1)\n",
    "    \n",
    "    T = robust_lilUCB_proc.run(mab)\n",
    "    \n",
    "    return np.sum(T), np.argmax(T)"
   ]
  },
  {
   "cell_type": "code",
   "execution_count": 13,
   "metadata": {
    "ExecuteTime": {
     "end_time": "2019-03-04T17:20:58.459253Z",
     "start_time": "2019-03-04T17:20:58.445434Z"
    },
    "collapsed": true
   },
   "outputs": [],
   "source": [
    "def lilUCB_exp(scenario, distrib, K, α=0.): \n",
    "    \n",
    "    np.random.seed()\n",
    "    \n",
    "    mab = MAB(K, scenario, distrib, α)\n",
    "        \n",
    "    lilUCB_proc = lilUCB(K=K, δ=0.1, ϵ=.01, β=1)\n",
    "    \n",
    "    T = lilUCB_proc.run(mab)\n",
    "    \n",
    "    return np.sum(T), np.argmax(T)"
   ]
  },
  {
   "cell_type": "markdown",
   "metadata": {},
   "source": [
    "## Sparse scenario"
   ]
  },
  {
   "cell_type": "code",
   "execution_count": 14,
   "metadata": {},
   "outputs": [],
   "source": [
    "import logging\n",
    "\n",
    "from logging.handlers import RotatingFileHandler\n",
    " \n",
    "# création de l'objet logger qui va nous servir à écrire dans les logs\n",
    "logger = logging.getLogger()\n",
    "# on met le niveau du logger à DEBUG, comme ça il écrit tout\n",
    "logger.setLevel(logging.DEBUG)\n",
    "\n",
    "formatter = logging.Formatter('%(asctime)s :: %(levelname)s :: %(message)s')\n",
    "\n",
    "file_handler = RotatingFileHandler('activity.log', 'a', 1000000, 1)\n",
    "\n",
    "file_handler.setLevel(logging.DEBUG)\n",
    "file_handler.setFormatter(formatter)\n",
    "logger.addHandler(file_handler)"
   ]
  },
  {
   "cell_type": "code",
   "execution_count": 26,
   "metadata": {
    "ExecuteTime": {
     "end_time": "2019-03-08T13:05:53.761268Z",
     "start_time": "2019-03-08T13:05:53.559989Z"
    },
    "collapsed": true,
    "scrolled": false
   },
   "outputs": [],
   "source": [
    "nb_of_arms = np.logspace(1, 4, 4, dtype=int)\n",
    "\n",
    "n_repeat = 50\n",
    "\n",
    "BAI_lilUCB = np.zeros((nb_of_arms.shape[0],n_repeat), dtype=int)\n",
    "BAI_robustlilUCB = np.zeros((nb_of_arms.shape[0],n_repeat), dtype=int)\n",
    "BAI_lilUCB_huber = np.zeros((nb_of_arms.shape[0],n_repeat), dtype=int)\n",
    "BAI_robustlilUCB_huber = np.zeros((nb_of_arms.shape[0],n_repeat), dtype=int)\n",
    "\n",
    "nb_of_pulls_lilUCB = np.zeros((nb_of_arms.shape[0],n_repeat), dtype=int)\n",
    "nb_of_pulls_robustlilUCB = np.zeros((nb_of_arms.shape[0], n_repeat), dtype=int)\n",
    "nb_of_pulls_lilUCB_huber = np.zeros((nb_of_arms.shape[0],n_repeat), dtype=int)\n",
    "nb_of_pulls_robustlilUCB_huber = np.zeros((nb_of_arms.shape[0],n_repeat), dtype=int)\n",
    "\n",
    "\n",
    "if 'BAI_robustlilUCB_huber.npy' not in os.listdir('experiments_results'):\n",
    "\n",
    "    p = mp.Pool(mp.cpu_count())\n",
    "\n",
    "    for i, K in enumerate(tqdm(nb_of_arms)): \n",
    "                \n",
    "        scenario, distrib = 'sparse', 'gaussian'\n",
    "        \n",
    "        logger.info('Starting lilUCB procedure for {} arms'.format(K))\n",
    "        \n",
    "        # lilUCB \n",
    "        #f = partial(lilUCB_exp, scenario, distrib)\n",
    "        #result = np.array(p.map_async(f, [K]*n_repeat).get())\n",
    "        #nb_of_pulls_lilUCB[i, :] = result[:,  0]\n",
    "        #BAI_lilUCB[i, :] = result[:, 1]\n",
    "\n",
    "        logger.info('Starting robust lilUCB procedure for {} arms'.format(K))\n",
    "        \n",
    "        # robust lil UCB\n",
    "        f = partial(robust_lilUCB_exp, scenario, distrib)\n",
    "        result = np.array(p.map_async(f, [K]*n_repeat).get())\n",
    "        nb_of_pulls_robustlilUCB[i, :] = result[:, 0]\n",
    "        BAI_robustlilUCB[i, :] = result[:, 1]\n",
    "        \n",
    "        scenario, distrib = 'sparse', 'huber'\n",
    "\n",
    "        logger.info('Starting lilUCB procedure for {} arms (Huber)'.format(K))\n",
    "        \n",
    "        # lilUCB contaminated \n",
    "        #f = partial(lilUCB_exp, scenario, distrib)\n",
    "        #result = np.array(p.map_async(f, [K]*n_repeat).get())\n",
    "        #nb_of_pulls_lilUCB_huber[i, :] = result[:, 0]\n",
    "        #BAI_lilUCB_huber[i, :] = result[:, 1]\n",
    "\n",
    "        logger.info('Starting robust lilUCB procedure for {} arms (Huber)'.format(K))\n",
    "        \n",
    "        # robust lilUCB contaminated \n",
    "        f = partial(robust_lilUCB_exp, scenario, distrib)\n",
    "        result = np.array(p.map_async(f, [K]*n_repeat).get())\n",
    "        nb_of_pulls_robustlilUCB_huber[i, :] = result[:,0]\n",
    "        BAI_robustlilUCB_huber[i, :] = result[:, 1]\n",
    "\n",
    "    logger.info(\"Finished task, saving results...\")\n",
    "        \n",
    "    #np.save('experiments_results/BAI_lilUCB.npy', BAI_lilUCB)\n",
    "    np.save('experiments_results/BAI_robustlilUCB.npy', BAI_robustlilUCB) \n",
    "    #np.save('experiments_results/BAI_lilUCB_huber.npy', BAI_lilUCB_huber) \n",
    "    np.save('experiments_results/BAI_robustlilUCB_huber.npy', BAI_robustlilUCB_huber) \n",
    "\n",
    "    #np.save('experiments_results/nb_of_pulls_lilUCB.npy', nb_of_pulls_lilUCB)\n",
    "    np.save('experiments_results/nb_of_pulls_robustlilUCB.npy', nb_of_pulls_robustlilUCB)\n",
    "    #np.save('experiments_results/nb_of_pulls_lilUCB_huber.npy', nb_of_pulls_lilUCB_huber)\n",
    "    np.save('experiments_results/nb_of_pulls_robustlilUCB_huber.npy', nb_of_pulls_robustlilUCB_huber)\n",
    "\n",
    "    p.close()\n",
    "    \n",
    "else:\n",
    "    \n",
    "    BAI_lilUCB = np.load('experiments_results/BAI_lilUCB.npy')  \n",
    "    BAI_robustlilUCB = np.load('experiments_results/BAI_robustlilUCB.npy')  \n",
    "    BAI_lilUCB_huber = np.load('experiments_results/BAI_lilUCB_huber.npy')  \n",
    "    BAI_robustlilUCB_huber = np.load('experiments_results/BAI_robustlilUCB_huber.npy')  \n",
    "\n",
    "    nb_of_pulls_lilUCB = np.load('experiments_results/nb_of_pulls_lilUCB.npy')  \n",
    "    nb_of_pulls_robustlilUCB = np.load('experiments_results/nb_of_pulls_robustlilUCB.npy')\n",
    "    nb_of_pulls_lilUCB_huber = np.load('experiments_results/nb_of_pulls_lilUCB_huber.npy')\n",
    "    nb_of_pulls_robustlilUCB_huber = np.load('experiments_results/nb_of_pulls_robustlilUCB_huber.npy')"
   ]
  },
  {
   "cell_type": "code",
   "execution_count": 27,
   "metadata": {},
   "outputs": [],
   "source": [
    "from scipy import stats"
   ]
  },
  {
   "cell_type": "code",
   "execution_count": 40,
   "metadata": {
    "ExecuteTime": {
     "end_time": "2019-03-08T13:05:54.711119Z",
     "start_time": "2019-03-08T13:05:53.763448Z"
    }
   },
   "outputs": [
    {
     "data": {
      "image/png": "[encoded data removed]",
      "text/plain": [
       "<Figure size 432x288 with 1 Axes>"
      ]
     },
     "metadata": {},
     "output_type": "display_data"
    }
   ],
   "source": [
    "## sns.set()\n",
    "\n",
    "# grid for both axis\n",
    "plt.rcParams[\"axes.grid.axis\"] ='both'\n",
    "\n",
    "H_1 = [4*K for K in nb_of_arms]\n",
    "\n",
    "# robust lilUCB, Gaussian model\n",
    "plt.loglog(nb_of_arms, stats.trim_mean(nb_of_pulls_robustlilUCB, proportiontocut=0.05, axis=1)/H_1, linewidth=2, linestyle='-.')\n",
    "plt.fill_between(nb_of_arms, np.max(nb_of_pulls_robustlilUCB, axis=1)/H_1, \n",
    "                 np.min(nb_of_pulls_robustlilUCB, axis=1)/H_1, alpha=.3)\n",
    "\n",
    "# robust lilUCB, Huber model\n",
    "plt.loglog(nb_of_arms, stats.trim_mean(nb_of_pulls_robustlilUCB_huber, proportiontocut=0.05, axis=1)/H_1, linewidth=2, linestyle=':')\n",
    "plt.fill_between(nb_of_arms, np.percentile(nb_of_pulls_robustlilUCB_huber, q=98, axis=1)/H_1, \n",
    "                 np.min(nb_of_pulls_robustlilUCB_huber, axis=1)/H_1, alpha=.3)\n",
    "\n",
    "plt.loglog(nb_of_arms, np.mean(nb_of_pulls_lilUCB, axis=1)/H_1, linewidth=1.5, linestyle='--')\n",
    "\n",
    "plt.xlabel('Number of arms K')\n",
    "plt.ylim(100, 500)\n",
    "plt.ylabel('Number of pulls (units of $H_1$)')\n",
    "plt.legend([\"Robust lil'UCB (Gaussian model)\", \"Robust lil'UCB (Huber model)\", \"lil'UCB (Gaussian model)\"],\n",
    "           loc='center right')\n",
    "#\n",
    "savefig('experiments_results/number_of_pulls_sparse.pdf', bbox_inches='tight', dpi=500)"
   ]
  },
  {
   "cell_type": "code",
   "execution_count": 41,
   "metadata": {
    "ExecuteTime": {
     "end_time": "2019-03-08T13:05:55.343973Z",
     "start_time": "2019-03-08T13:05:54.713345Z"
    }
   },
   "outputs": [
    {
     "data": {
      "image/png": "[encoded data removed]",
      "text/plain": [
       "<Figure size 432x288 with 1 Axes>"
      ]
     },
     "metadata": {},
     "output_type": "display_data"
    }
   ],
   "source": [
    "# only display horizontal grid\n",
    "plt.rcParams[\"axes.grid.axis\"] ='y'\n",
    "\n",
    "ind = np.array([10, 20, 30, 40])\n",
    "width = 2\n",
    "\n",
    "prop_1 = np.sum(BAI_lilUCB==0, axis=1)/n_repeat\n",
    "prop_2 = np.sum(BAI_lilUCB_huber==0, axis=1)/n_repeat\n",
    "prop_3 = np.sum(BAI_robustlilUCB==0, axis=1)/n_repeat\n",
    "prop_4 = np.sum(BAI_robustlilUCB_huber==0, axis=1)/n_repeat\n",
    "\n",
    "## the bars\n",
    "rects1 = plt.bar(ind, prop_1, width, edgecolor=\"black\")\n",
    "rects2 = plt.bar(ind+width, prop_2, width, color='#d62728', edgecolor=\"black\")\n",
    "rects3 = plt.bar(ind+2*width, prop_3, width, color='#2ca02c', edgecolor=\"black\")\n",
    "rects4 = plt.bar(ind+3*width, prop_4, width, edgecolor=\"black\")\n",
    "plt.xlabel('Number of arms K')\n",
    "plt.ylabel('Prop. of correct best arm identification')\n",
    "plt.legend([\"lil'UCB (Gaussian model)\", \"lil'UCB (Huber model)\", \n",
    "            \"Robust lil'UCB (Gaussian model)\",\"Robust lil'UCB (Huber model)\"])\n",
    "\n",
    "plt.ylim(0, 1.7)\n",
    "plt.yticks([0, 0.2, 0.4, 0.6, 0.8, 1.], [\"0%\", \"20%\", \"40%\", \"60%\", \"80%\", \"100%\"])\n",
    "\n",
    "plt.xticks(ind+width, [\"{} arms\".format(x) for x in nb_of_arms])\n",
    "savefig('experiments_results/prop_correct_bai_sparse.pdf', bbox_inches='tight', dpi=500)"
   ]
  },
  {
   "cell_type": "markdown",
   "metadata": {},
   "source": [
    "## $\\alpha = 0.3$ scenario"
   ]
  },
  {
   "cell_type": "code",
   "execution_count": 42,
   "metadata": {
    "ExecuteTime": {
     "end_time": "2019-03-04T17:20:58.059266Z",
     "start_time": "2019-03-04T17:20:58.050904Z"
    },
    "collapsed": true
   },
   "outputs": [],
   "source": [
    "def robust_lilUCB_exp(scenario, distrib, K):\n",
    "    \n",
    "    np.random.seed()\n",
    "    \n",
    "    mab = MAB(K=K, scenario=scenario, distrib=distrib, α=0.3)\n",
    "    \n",
    "    robust_lilUCB_proc = robust_lilUCB(K=K, δ=0.1, ϵ=.01, β=1)\n",
    "    \n",
    "    T = robust_lilUCB_proc.run(mab)\n",
    "    \n",
    "    return np.sum(T), np.argmax(T)"
   ]
  },
  {
   "cell_type": "code",
   "execution_count": 43,
   "metadata": {
    "ExecuteTime": {
     "end_time": "2019-03-04T17:20:58.459253Z",
     "start_time": "2019-03-04T17:20:58.445434Z"
    },
    "collapsed": true
   },
   "outputs": [],
   "source": [
    "def lilUCB_exp(scenario, distrib, K): \n",
    "    \n",
    "    np.random.seed()\n",
    "    \n",
    "    mab = MAB(K=K, scenario=scenario, distrib=distrib, α=0.3)\n",
    "        \n",
    "    lilUCB_proc = lilUCB(K=K, δ=0.1, ϵ=.01, β=1)\n",
    "    \n",
    "    T = lilUCB_proc.run(mab)\n",
    "    \n",
    "    return np.sum(T), np.argmax(T)"
   ]
  },
  {
   "cell_type": "code",
   "execution_count": 44,
   "metadata": {
    "ExecuteTime": {
     "end_time": "2019-03-08T13:05:55.635062Z",
     "start_time": "2019-03-08T13:05:55.346427Z"
    },
    "collapsed": true,
    "scrolled": false
   },
   "outputs": [],
   "source": [
    "nb_of_arms = np.logspace(1, 4, 4, dtype=int)\n",
    "\n",
    "n_repeat = 50\n",
    "\n",
    "BAI_lilUCB = np.zeros((nb_of_arms.shape[0],n_repeat), dtype=int)\n",
    "BAI_lilUCB_huber = np.zeros((nb_of_arms.shape[0],n_repeat), dtype=int)\n",
    "BAI_robustlilUCB_huber = np.zeros((nb_of_arms.shape[0],n_repeat), dtype=int)\n",
    "BAI_robustlilUCB = np.zeros((nb_of_arms.shape[0],n_repeat), dtype=int)\n",
    "\n",
    "nb_of_pulls_lilUCB = np.zeros((nb_of_arms.shape[0],n_repeat), dtype=int)\n",
    "nb_of_pulls_lilUCB_huber = np.zeros((nb_of_arms.shape[0],n_repeat), dtype=int)\n",
    "nb_of_pulls_robustlilUCB_huber = np.zeros((nb_of_arms.shape[0],n_repeat), dtype=int)\n",
    "nb_of_pulls_robustlilUCB = np.zeros((nb_of_arms.shape[0],n_repeat), dtype=int)\n",
    "\n",
    "if 'BAI_lilUCB_alpha_3.npy' not in os.listdir('experiments_results'):\n",
    "\n",
    "    p = mp.Pool(mp.cpu_count())\n",
    "\n",
    "    for i, K in enumerate(tqdm(nb_of_arms)): \n",
    "\n",
    "        scenario, distrib = 'alpha', 'gaussian'\n",
    "        \n",
    "        logger.info('Starting lilUCB procedure for {} arms'.format(K))\n",
    "\n",
    "        # lilUCB \n",
    "        #f = partial(lilUCB_exp, scenario, distrib)\n",
    "        #result = np.array(p.map_async(f, [K]*n_repeat).get())\n",
    "        #nb_of_pulls_lilUCB[i, :] = result[:,0]\n",
    "        #BAI_lilUCB[i, :] = result[:, 1]\n",
    "\n",
    "        logger.info('Starting robust lilUCB procedure for {} arms'.format(K))\n",
    "        \n",
    "        # robust lil UCB\n",
    "        f = partial(robust_lilUCB_exp, scenario, distrib)\n",
    "        result = np.array(p.map_async(f, [K]*n_repeat).get())\n",
    "        nb_of_pulls_robustlilUCB[i, :] = result[:,0]\n",
    "        BAI_robustlilUCB[i, :] = result[:, 1]\n",
    "\n",
    "        scenario, distrib = 'alpha', 'huber'\n",
    "        \n",
    "        logger.info('Starting lilUCB procedure for {} arms (Huber)'.format(K))\n",
    "        \n",
    "        # lilUCB contaminated \n",
    "        #f = partial(lilUCB_exp, scenario, distrib)\n",
    "        #result = np.array(p.map_async(f, [K]*n_repeat).get())\n",
    "        #nb_of_pulls_lilUCB_huber[i, :] = result[:,0]\n",
    "        #BAI_lilUCB_huber[i, :] = result[:, 1]\n",
    "\n",
    "        logger.info('Starting robust lilUCB procedure for {} arms (Huber)'.format(K))\n",
    "        \n",
    "        # robust lilUCB contaminated \n",
    "        f = partial(robust_lilUCB_exp, scenario, distrib)\n",
    "        result = np.array(p.map_async(f, [K]*n_repeat).get())\n",
    "        nb_of_pulls_robustlilUCB_huber[i, :] = result[:,0]\n",
    "        BAI_robustlilUCB_huber[i, :] = result[:, 1]\n",
    "\n",
    "    logger.info(\"Finished task, saving results...\")\n",
    "        \n",
    "    #np.save('experiments_results/BAI_lilUCB_alpha_3.npy', BAI_lilUCB)    \n",
    "    #np.save('experiments_results/BAI_lilUCB_huber_alpha_3.npy', BAI_lilUCB_huber) \n",
    "    np.save('experiments_results/BAI_robustlilUCB_alpha_3.npy', BAI_robustlilUCB) \n",
    "    np.save('experiments_results/BAI_robustlilUCB_huber_alpha_3.npy', BAI_robustlilUCB_huber) \n",
    "    \n",
    "\n",
    "    #np.save('experiments_results/nb_of_pulls_lilUCB_alpha_3.npy', nb_of_pulls_lilUCB)\n",
    "    #np.save('experiments_results/nb_of_pulls_lilUCB_huber_alpha_3.npy', nb_of_pulls_lilUCB_huber)\n",
    "    np.save('experiments_results/nb_of_pulls_robustlilUCB_huber_alpha_3.npy', nb_of_pulls_robustlilUCB_huber)\n",
    "    np.save('experiments_results/nb_of_pulls_robustlilUCB_alpha_3.npy', nb_of_pulls_robustlilUCB)\n",
    "\n",
    "\n",
    "    p.close()\n",
    "    \n",
    "else:\n",
    "    \n",
    "    BAI_lilUCB = np.load('experiments_results/BAI_lilUCB_alpha_3.npy')  \n",
    "    BAI_lilUCB_huber = np.load('experiments_results/BAI_lilUCB_huber_alpha_3.npy')  \n",
    "    BAI_robustlilUCB_huber = np.load('experiments_results/BAI_robustlilUCB_huber_alpha_3.npy')  \n",
    "    BAI_robustlilUCB = np.load('experiments_results/BAI_robustlilUCB_alpha_3.npy')  \n",
    "\n",
    "    nb_of_pulls_lilUCB = np.load('experiments_results/nb_of_pulls_lilUCB_alpha_3.npy')  \n",
    "    nb_of_pulls_lilUCB_huber = np.load('experiments_results/nb_of_pulls_lilUCB_huber_alpha_3.npy')\n",
    "    nb_of_pulls_robustlilUCB_huber = np.load('experiments_results/nb_of_pulls_robustlilUCB_huber_alpha_3.npy')\n",
    "    nb_of_pulls_robustlilUCB = np.load('experiments_results/nb_of_pulls_robustlilUCB_alpha_3.npy')"
   ]
  },
  {
   "cell_type": "code",
   "execution_count": 53,
   "metadata": {
    "ExecuteTime": {
     "end_time": "2019-03-08T13:05:56.688047Z",
     "start_time": "2019-03-08T13:05:55.638587Z"
    }
   },
   "outputs": [
    {
     "data": {
      "image/png": "[encoded data removed]",
      "text/plain": [
       "<Figure size 432x288 with 1 Axes>"
      ]
     },
     "metadata": {},
     "output_type": "display_data"
    }
   ],
   "source": [
    "## sns.set()\n",
    "\n",
    "# grid for both axis\n",
    "plt.rcParams[\"axes.grid.axis\"] ='both'\n",
    "\n",
    "H_1 = [3*K/2 for K in nb_of_arms]\n",
    "\n",
    "# robust lilUCB, Gaussian model\n",
    "plt.loglog(nb_of_arms, np.mean(nb_of_pulls_robustlilUCB, axis=1)/H_1, linewidth=2, linestyle='-.')\n",
    "plt.fill_between(nb_of_arms, np.max(nb_of_pulls_robustlilUCB, axis=1)/H_1, \n",
    "                 np.min(nb_of_pulls_robustlilUCB, axis=1)/H_1, alpha=.3)\n",
    "\n",
    "# robust lilUCB, Huber model\n",
    "plt.semilogx(nb_of_arms, np.mean(nb_of_pulls_robustlilUCB_huber, axis=1)/H_1, linewidth=2, linestyle=':')\n",
    "plt.fill_between(nb_of_arms, np.percentile(nb_of_pulls_robustlilUCB_huber, q=96, axis=1)/H_1, \n",
    "                 np.min(nb_of_pulls_robustlilUCB_huber, axis=1)/H_1, alpha=.3)\n",
    "\n",
    "plt.semilogx(nb_of_arms, np.mean(nb_of_pulls_lilUCB, axis=1)/H_1, linewidth=1.5, linestyle='--')\n",
    "\n",
    "plt.xlabel('Number of arms K')\n",
    "plt.ylim(10, 1000)\n",
    "plt.ylabel('Number of pulls (units of $H_1$)')\n",
    "plt.legend([\"Robust lil'UCB (Gaussian model)\", \"Robust lil'UCB (Huber model)\", \"lil'UCB (Gaussian model)\"],\n",
    "           loc='lower right')\n",
    "savefig('experiments_results/number_of_pulls_alpha_3.pdf', bbox_inches='tight', dpi=500)"
   ]
  },
  {
   "cell_type": "code",
   "execution_count": null,
   "metadata": {
    "ExecuteTime": {
     "end_time": "2019-03-08T13:05:57.289188Z",
     "start_time": "2019-03-08T13:05:56.690910Z"
    }
   },
   "outputs": [],
   "source": [
    "# only display horizontal grid\n",
    "plt.rcParams[\"axes.grid.axis\"] ='y'\n",
    "\n",
    "ind = np.array([10, 20, 30, 40])\n",
    "width = 2\n",
    "\n",
    "prop_1 = np.sum(BAI_lilUCB[:3, :]==0, axis=1)/n_repeat\n",
    "prop_2 = np.sum(BAI_lilUCB_huber[:3, :]==0, axis=1)/n_repeat\n",
    "prop_3 = np.sum(BAI_robustlilUCB==0, axis=1)/n_repeat\n",
    "prop_4 = np.sum(BAI_robustlilUCB_huber==0, axis=1)/n_repeat\n",
    "\n",
    "## the bars\n",
    "rects1 = plt.bar(ind, prop_1, width, edgecolor=\"black\")\n",
    "rects2 = plt.bar(ind+width, prop_2, width, color='#d62728', edgecolor=\"black\")\n",
    "rects3 = plt.bar(ind+2*width, prop_3, width, color='#2ca02c', edgecolor=\"black\")\n",
    "rects4 = plt.bar(ind+3*width, prop_4, width, edgecolor=\"black\")\n",
    "plt.xlabel('Number of arms K')\n",
    "plt.ylabel('Prop. of correct best arm identification')\n",
    "plt.legend([\"lil'UCB (Gaussian model)\", \"lil'UCB (Huber model)\", \n",
    "            \"Robust lil'UCB (Gaussian model)\",\"Robust lil'UCB (Huber model)\"])\n",
    "plt.ylim(0, 1.5)\n",
    "plt.xticks(ind+width, [\"{} arms\".format(x) for x in nb_of_arms])\n",
    "savefig('experiments_results/prop_correct_bai_alpha_3.pdf', bbox_inches='tight', dpi=500)"
   ]
  },
  {
   "cell_type": "markdown",
   "metadata": {
    "ExecuteTime": {
     "end_time": "2019-02-21T20:55:33.165854Z",
     "start_time": "2019-02-21T20:55:33.158932Z"
    }
   },
   "source": [
    "# Compare LIL bound to union bound "
   ]
  },
  {
   "cell_type": "markdown",
   "metadata": {
    "ExecuteTime": {
     "end_time": "2019-02-22T07:45:01.586935Z",
     "start_time": "2019-02-22T07:45:01.582277Z"
    }
   },
   "source": [
    "$Y_1, \\dots, Y_n$ iid sub-gaussian random variables with mean $\\mu$ and sub-Gaussian variance $\\sigma^2$.\n",
    "\n",
    "**Union bound**\n",
    "\n",
    "The folowing tail bound inequality stems from the sub-Gaussian assumption :\n",
    "\n",
    "\\begin{align}\n",
    "\\mathbb{P}\\left( \\lvert \\bar{Y}_n - \\mu \\rvert > \\sigma \\sqrt{2} \\sqrt{\\frac{\\ln 1/\\delta}{n}} \\right) \\leq \\delta\n",
    "\\end{align}\n",
    "\n",
    "A simple union bound gives\n",
    "\n",
    "\\begin{align}\n",
    "\\mathbb{P}\\left(\\forall n \\geq 1, \\lvert \\bar{Y}_n - \\mu \\rvert > \\sigma \\sqrt{2} \\sqrt{\\frac{\\ln n^2/\\delta}{n}} \\right) \\leq \\frac{\\pi^2}{6}\\delta\n",
    "\\end{align}\n",
    "\n",
    "\n",
    "**LIL bound**\n",
    "\n",
    "The loss corresponding to the mean is given by $\\phi(x, y) = (x-y)^2$. The loss verifies the assumptions of Theorem 2 with $r=+\\infty, n_0 = 1, \\alpha=2$ therefore, for any $\\varepsilon > 0$ we have,\n",
    "\n",
    "\\begin{align}\n",
    "\\mathbb{P}\\left( \\forall n \\geq 1, \\lvert \\bar{Y}_n - \\mu \\rvert \\geq 2 \\sigma \\sqrt{\\frac{2(1+\\varepsilon)\\ln \\ln n + \\ln 1/\\delta}{n}} \\right) \\leq \\frac{4(1+1/\\varepsilon)}{(\\ln(1+\\varepsilon))^{1+\\varepsilon}}\n",
    "\\end{align}\n",
    "\n"
   ]
  },
  {
   "cell_type": "code",
   "execution_count": 64,
   "metadata": {
    "ExecuteTime": {
     "end_time": "2019-03-07T18:57:39.167372Z",
     "start_time": "2019-03-07T18:57:39.132584Z"
    },
    "scrolled": false
   },
   "outputs": [],
   "source": [
    "def UB(n, ν, ɛ, σ=.5):\n",
    "    δ = ɛ*ν/4\n",
    "    print(\"Union bound confidence : {}\".format(δ))\n",
    "    return np.sqrt(2)*σ*np.sqrt(np.log(2*n**(1+ɛ)/δ)/n)\n",
    "\n",
    "def LIL(n, ν, ɛ, σ=.5):\n",
    "    δ = ɛ*ν/4\n",
    "    print(\"LIL confidence : {}\".format(δ))\n",
    "    return 4*σ*np.sqrt(((1+ɛ)*np.log(np.log2(n)) + np.log(1/δ))/n)\n",
    "\n",
    "def LIL_empirical(n, ν, ɛ, σ=.5):\n",
    "    δ = ɛ*ν/4\n",
    "    print(\"LIL confidence : {}\".format(δ))\n",
    "    return 0.35*σ*np.sqrt(((1+ɛ)*np.log(np.log2(n)) + np.log(1/δ))/n)"
   ]
  },
  {
   "cell_type": "code",
   "execution_count": 65,
   "metadata": {},
   "outputs": [],
   "source": [
    "sns.set_style(\"darkgrid\", {'ytick.left':True})\n",
    "n = np.logspace(1, 16, 16, dtype=int)\n",
    "ɛ = 2."
   ]
  },
  {
   "cell_type": "code",
   "execution_count": 66,
   "metadata": {
    "ExecuteTime": {
     "end_time": "2019-03-07T18:57:41.138358Z",
     "start_time": "2019-03-07T18:57:39.794994Z"
    }
   },
   "outputs": [
    {
     "name": "stdout",
     "output_type": "stream",
     "text": [
      "LIL confidence : 0.005\n",
      "Union bound confidence : 0.005\n",
      "LIL confidence : 0.025\n",
      "Union bound confidence : 0.025\n",
      "LIL confidence : 0.05\n",
      "Union bound confidence : 0.05\n"
     ]
    },
    {
     "data": {
      "image/png": "[encoded data removed]",
      "text/plain": [
       "<Figure size 432x288 with 1 Axes>"
      ]
     },
     "metadata": {},
     "output_type": "display_data"
    }
   ],
   "source": [
    "ν = 0.01\n",
    "plt.loglog(n, LIL(n, ν, ɛ)/UB(n, ν, ɛ))\n",
    "\n",
    "ν = 0.05\n",
    "plt.loglog(n, LIL(n, ν, ɛ)/UB(n, ν, ɛ))\n",
    "\n",
    "ν = 0.1\n",
    "plt.loglog(n, LIL(n, ν, ɛ)/UB(n, ν, ɛ))\n",
    "\n",
    "plt.legend(title=\"Confidence\", labels=['99%', '95%', '90%'])\n",
    "\n",
    "plt.ylim(.5, 3)\n",
    "\n",
    "plt.xlabel('Sample size n')\n",
    "#plt.title('LIL bound over union bound upper bound ratio (log scale)')\n",
    "plt.tight_layout()\n",
    "savefig('lil_ratio_theoretical.pdf', dpi=500, bb_inches='tight')"
   ]
  },
  {
   "cell_type": "code",
   "execution_count": 67,
   "metadata": {
    "ExecuteTime": {
     "end_time": "2019-03-07T18:57:41.997763Z",
     "start_time": "2019-03-07T18:57:41.140289Z"
    }
   },
   "outputs": [
    {
     "name": "stdout",
     "output_type": "stream",
     "text": [
      "LIL confidence : 0.005\n",
      "Union bound confidence : 0.005\n",
      "LIL confidence : 0.025\n",
      "Union bound confidence : 0.025\n",
      "LIL confidence : 0.05\n",
      "Union bound confidence : 0.05\n"
     ]
    },
    {
     "data": {
      "image/png": "[encoded data removed]",
      "text/plain": [
       "<Figure size 432x288 with 1 Axes>"
      ]
     },
     "metadata": {},
     "output_type": "display_data"
    }
   ],
   "source": [
    "ν = 0.01\n",
    "plt.loglog(n, LIL_empirical(n, ν, ɛ)/UB(n, ν, ɛ))\n",
    "\n",
    "ν = 0.05\n",
    "plt.loglog(n, LIL_empirical(n, ν, ɛ)/UB(n, ν, ɛ))\n",
    "\n",
    "ν = 0.1\n",
    "plt.loglog(n, LIL_empirical(n, ν, ɛ)/UB(n, ν, ɛ))\n",
    "\n",
    "plt.legend(title=\"Confidence\", labels=['99%', '95%', '90%'])\n",
    "\n",
    "plt.ylim(0.05, 0.3)\n",
    "\n",
    "plt.xlabel('Sample size n')\n",
    "#plt.title('LIL bound over union bound upper bound ratio (log scale)')\n",
    "plt.tight_layout()\n",
    "savefig('lil_ratio_empirical.pdf', dpi=500, bb_inches='tight')"
   ]
  },
  {
   "cell_type": "code",
   "execution_count": null,
   "metadata": {
    "collapsed": true
   },
   "outputs": [],
   "source": []
  },
  {
   "cell_type": "code",
   "execution_count": null,
   "metadata": {},
   "outputs": [],
   "source": []
  }
 ],
 "metadata": {
  "kernelspec": {
   "display_name": "Python 3",
   "language": "python",
   "name": "python3"
  },
  "language_info": {
   "codemirror_mode": {
    "name": "ipython",
    "version": 3
   },
   "file_extension": ".py",
   "mimetype": "text/x-python",
   "name": "python",
   "nbconvert_exporter": "python",
   "pygments_lexer": "ipython3",
   "version": "3.5.2"
  },
  "toc": {
   "nav_menu": {},
   "number_sections": true,
   "sideBar": true,
   "skip_h1_title": false,
   "toc_cell": false,
   "toc_position": {},
   "toc_section_display": "block",
   "toc_window_display": false
  }
 },
 "nbformat": 4,
 "nbformat_minor": 2
}
